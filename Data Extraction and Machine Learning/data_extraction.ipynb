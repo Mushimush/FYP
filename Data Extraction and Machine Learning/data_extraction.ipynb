{
 "cells": [
  {
   "cell_type": "markdown",
   "id": "5d037743",
   "metadata": {
    "id": "5d037743"
   },
   "source": [
    "# Data Exploration"
   ]
  },
  {
   "cell_type": "markdown",
   "id": "fbae8e9b",
   "metadata": {
    "id": "fbae8e9b"
   },
   "source": [
    "Let's begin by exploring data in the MIMIC Waveform Database.\n",
    "\n",
    "Our **objectives** are to:\n",
    "- Review the structure of the MIMIC Waveform Database (considering subjects, studies, records, and segments).\n",
    "- Load waveforms using the WFDB toolbox.\n",
    "- Find out which signals are present in selected records and segments, and how long the signals last.\n",
    "- Search for records that contain signals of interest."
   ]
  },
  {
   "cell_type": "markdown",
   "id": "0b240726",
   "metadata": {
    "id": "0b240726"
   },
   "source": [
    "<div class=\"alert alert-block alert-warning\">\n",
    "<p><b>Resource:</b> You can find out more about the MIMIC Waveform Database <a href=\"https://physionet.org/content/mimic4wdb/0.1.0/\">here</a>.</p>\n",
    "</div>"
   ]
  },
  {
   "cell_type": "markdown",
   "id": "28b8e213",
   "metadata": {
    "id": "28b8e213"
   },
   "source": [
    "---\n",
    "## Setup"
   ]
  },
  {
   "cell_type": "markdown",
   "id": "5dac032e",
   "metadata": {
    "id": "5dac032e"
   },
   "source": [
    "### Specify the required Python packages\n",
    "We'll import the following:\n",
    "- _sys_: an essential python package\n",
    "- _pathlib_ (well a particular function from _pathlib_, called _Path_)"
   ]
  },
  {
   "cell_type": "code",
   "execution_count": 2,
   "id": "ce3cdfde",
   "metadata": {
    "id": "ce3cdfde"
   },
   "outputs": [],
   "source": [
    "import sys\n",
    "from pathlib import Path"
   ]
  },
  {
   "cell_type": "markdown",
   "id": "9976c5e4",
   "metadata": {
    "id": "9976c5e4"
   },
   "source": [
    "### Specify a particular version of the WFDB Toolbox"
   ]
  },
  {
   "cell_type": "markdown",
   "id": "6533154b",
   "metadata": {
    "id": "6533154b"
   },
   "source": [
    "- _wfdb_: For this workshop we will be using version 4 of the WaveForm DataBase (WFDB) Toolbox package. The package contains tools for processing waveform data such as those found in MIMIC:"
   ]
  },
  {
   "cell_type": "code",
   "execution_count": 3,
   "id": "5fdfa989",
   "metadata": {
    "id": "5fdfa989"
   },
   "outputs": [],
   "source": [
    "import wfdb"
   ]
  },
  {
   "cell_type": "markdown",
   "id": "e11ce5b6",
   "metadata": {
    "id": "e11ce5b6"
   },
   "source": [
    "<div class=\"alert alert-block alert-warning\">\n",
    "<p><b>Resource:</b> You can find out more about the WFDB package <a href=\"https://physionet.org/content/wfdb-python/3.4.1/\">here</a>.</p>\n",
    "</div>"
   ]
  },
  {
   "cell_type": "markdown",
   "id": "d492e49f",
   "metadata": {
    "id": "d492e49f"
   },
   "source": [
    "Now that we have imported these packages (_i.e._ toolboxes) we have a set of tools (functions) ready to use."
   ]
  },
  {
   "cell_type": "markdown",
   "id": "e7d38297",
   "metadata": {
    "id": "e7d38297"
   },
   "source": [
    "### Specify the name of the MIMIC Waveform Database"
   ]
  },
  {
   "cell_type": "markdown",
   "id": "68491718",
   "metadata": {
    "id": "68491718"
   },
   "source": [
    "- Specify the name of the MIMIC IV Waveform Database on Physionet, which comes from the URL: https://physionet.org/content/mimic4wdb/0.1.0/"
   ]
  },
  {
   "cell_type": "code",
   "execution_count": 4,
   "id": "982b8154",
   "metadata": {
    "id": "982b8154"
   },
   "outputs": [],
   "source": [
    "database_name = 'mimic4wdb/0.1.0'"
   ]
  },
  {
   "cell_type": "markdown",
   "id": "e49196a6",
   "metadata": {
    "id": "e49196a6"
   },
   "source": [
    "---\n",
    "## Identify the records in the database"
   ]
  },
  {
   "cell_type": "markdown",
   "id": "b476f9b7",
   "metadata": {
    "id": "b476f9b7"
   },
   "source": [
    "### Get a list of records\n",
    "\n",
    "- Use the [`get_record_list`](https://wfdb.readthedocs.io/en/latest/io.html#wfdb.io.get_record_list) function from the WFDB toolbox to get a list of records in the database."
   ]
  },
  {
   "cell_type": "code",
   "execution_count": 5,
   "id": "d91aa6a7",
   "metadata": {
    "colab": {
     "base_uri": "https://localhost:8080/"
    },
    "id": "d91aa6a7",
    "outputId": "db8e3169-76ac-4bdd-bbaa-91cf626c1a6b"
   },
   "outputs": [
    {
     "name": "stdout",
     "output_type": "stream",
     "text": [
      "The 'mimic4wdb/0.1.0' database contains data from 198 subjects\n"
     ]
    }
   ],
   "source": [
    "# each subject may be associated with multiple records\n",
    "subjects = wfdb.get_record_list(database_name)\n",
    "print(f\"The '{database_name}' database contains data from {len(subjects)} subjects\")\n",
    "\n",
    "# set max number of records to load\n",
    "max_records_to_load = 200"
   ]
  },
  {
   "cell_type": "code",
   "execution_count": 6,
   "id": "0RzQmqjiQ9LD",
   "metadata": {
    "colab": {
     "base_uri": "https://localhost:8080/"
    },
    "id": "0RzQmqjiQ9LD",
    "outputId": "31eb6067-de92-4424-b32b-f292623215a5"
   },
   "outputs": [
    {
     "name": "stdout",
     "output_type": "stream",
     "text": [
      "Reached maximum required number of records.\n",
      "Loaded 200 records from the 'mimic4wdb/0.1.0' database.\n"
     ]
    }
   ],
   "source": [
    "# iterate the subjects to get a list of records\n",
    "records = []\n",
    "for subject in subjects:\n",
    "    studies = wfdb.get_record_list(f'{database_name}/{subject}')\n",
    "    for study in studies:\n",
    "        records.append(Path(f'{subject}{study}'))\n",
    "        # stop if we've loaded enough records\n",
    "        if len(records) >= max_records_to_load:\n",
    "            print(\"Reached maximum required number of records.\")\n",
    "            break\n",
    "\n",
    "print(f\"Loaded {len(records)} records from the '{database_name}' database.\")"
   ]
  },
  {
   "cell_type": "markdown",
   "id": "fc82d67e",
   "metadata": {
    "id": "fc82d67e"
   },
   "source": [
    "### Look at the records"
   ]
  },
  {
   "cell_type": "markdown",
   "id": "29552f5a",
   "metadata": {
    "id": "29552f5a"
   },
   "source": [
    "- Display the first few records"
   ]
  },
  {
   "cell_type": "code",
   "execution_count": 6,
   "id": "bb5745a7",
   "metadata": {
    "colab": {
     "base_uri": "https://localhost:8080/"
    },
    "id": "bb5745a7",
    "outputId": "8fe32e59-c542-4a40-bd06-0c04fdcfbbfe"
   },
   "outputs": [
    {
     "name": "stdout",
     "output_type": "stream",
     "text": [
      "First five records: \n",
      " - waves/p100/p10014354/81739927/81739927\n",
      " - waves/p100/p10019003/87033314/87033314\n",
      " - waves/p100/p10020306/83404654/83404654\n",
      " - waves/p100/p10039708/83411188/83411188\n",
      " - waves/p100/p10039708/85583557/85583557\n",
      "\n",
      "Note the formatting of these records:\n",
      " - intermediate directory ('p100' in this case)\n",
      " - subject identifier (e.g. 'p10014354')\n",
      " - record identifier (e.g. '81739927'\n",
      " \n"
     ]
    }
   ],
   "source": [
    "# format and print first five records\n",
    "first_five_records = [str(x) for x in records[0:5]]\n",
    "first_five_records = \"\\n - \".join(first_five_records)\n",
    "print(f\"First five records: \\n - {first_five_records}\")\n",
    "\n",
    "print(\"\"\"\n",
    "Note the formatting of these records:\n",
    " - intermediate directory ('p100' in this case)\n",
    " - subject identifier (e.g. 'p10014354')\n",
    " - record identifier (e.g. '81739927'\n",
    " \"\"\")"
   ]
  },
  {
   "cell_type": "markdown",
   "id": "b56c29d5",
   "metadata": {
    "id": "b56c29d5"
   },
   "source": [
    "<div class=\"alert alert-block alert-info\">\n",
    "<p><b>Q:</b> Can you print the names of the last five records? <br> <b>Hint:</b> in Python, the last five elements can be specified using '[-5:]'</p>\n",
    "</div>"
   ]
  },
  {
   "cell_type": "markdown",
   "id": "cb21a93b",
   "metadata": {
    "id": "cb21a93b"
   },
   "source": [
    "---\n",
    "## Extract metadata for a record"
   ]
  },
  {
   "cell_type": "markdown",
   "id": "c39dc9f3",
   "metadata": {
    "id": "c39dc9f3"
   },
   "source": [
    "Each record contains metadata stored in a header file, named \"`<record name>.hea`\""
   ]
  },
  {
   "cell_type": "markdown",
   "id": "3b2e6adb",
   "metadata": {
    "id": "3b2e6adb"
   },
   "source": [
    "### Specify the online directory containing a record's data"
   ]
  },
  {
   "cell_type": "code",
   "execution_count": 7,
   "id": "86eed39f",
   "metadata": {
    "colab": {
     "base_uri": "https://localhost:8080/"
    },
    "id": "86eed39f",
    "outputId": "5cfa40d0-b4d4-4605-b677-164d9b603f90"
   },
   "outputs": [
    {
     "name": "stdout",
     "output_type": "stream",
     "text": [
      "PhysioNet directory specified for record: mimic4wdb/0.1.0/waves/p100/p10039708/83411188\n"
     ]
    }
   ],
   "source": [
    "# Specify the 4th record (note, in Python indexing begins at 0)\n",
    "idx = 3\n",
    "record = records[idx]\n",
    "record_dir = f'{database_name}/{record.parent}'\n",
    "print(\"PhysioNet directory specified for record: {}\".format(record_dir))"
   ]
  },
  {
   "cell_type": "markdown",
   "id": "b5220ad3",
   "metadata": {
    "id": "b5220ad3"
   },
   "source": [
    "### Specify the subject identifier"
   ]
  },
  {
   "cell_type": "markdown",
   "id": "d7a5bbef",
   "metadata": {
    "id": "d7a5bbef"
   },
   "source": [
    "Extract the record name (e.g. '83411188') from the record (e.g. 'p100/p10039708/83411188/83411188'):"
   ]
  },
  {
   "cell_type": "code",
   "execution_count": 8,
   "id": "b4bc247b",
   "metadata": {
    "colab": {
     "base_uri": "https://localhost:8080/"
    },
    "id": "b4bc247b",
    "outputId": "a74ca902-ca05-496a-fd5d-2dbb0d95f998"
   },
   "outputs": [
    {
     "name": "stdout",
     "output_type": "stream",
     "text": [
      "Record name: 83411188\n"
     ]
    }
   ],
   "source": [
    "record_name = record.name\n",
    "print(\"Record name: {}\".format(record_name))"
   ]
  },
  {
   "cell_type": "markdown",
   "id": "742071da",
   "metadata": {
    "id": "742071da"
   },
   "source": [
    "### Load the metadata for this record\n",
    "- Use the [`rdheader`](https://wfdb.readthedocs.io/en/latest/io.html#wfdb.io.rdheader) function from the WFDB toolbox to load metadata from the record header file"
   ]
  },
  {
   "cell_type": "code",
   "execution_count": 9,
   "id": "c5a0afc5",
   "metadata": {
    "colab": {
     "base_uri": "https://localhost:8080/"
    },
    "id": "c5a0afc5",
    "outputId": "13b3dfa2-d489-4a77-c07d-a5116d67b4ec"
   },
   "outputs": [
    {
     "name": "stdout",
     "output_type": "stream",
     "text": [
      "Done: metadata loaded for record '83411188' from the header file at:\n",
      "https://physionet.org/content/mimic4wdb/0.1.0/waves/p100/p10039708/83411188/83411188.hea\n"
     ]
    }
   ],
   "source": [
    "record_data = wfdb.rdheader(record_name, pn_dir=record_dir, rd_segments=True)\n",
    "remote_url = \"https://physionet.org/content/\" + record_dir + \"/\" + record_name + \".hea\"\n",
    "print(f\"Done: metadata loaded for record '{record_name}' from the header file at:\\n{remote_url}\")"
   ]
  },
  {
   "cell_type": "markdown",
   "id": "f7a4d25d",
   "metadata": {
    "id": "f7a4d25d"
   },
   "source": [
    "---\n",
    "## Inspect details of physiological signals recorded in this record\n",
    "- Printing a few details of the signals from the extracted metadata"
   ]
  },
  {
   "cell_type": "code",
   "execution_count": 10,
   "id": "58630149",
   "metadata": {
    "colab": {
     "base_uri": "https://localhost:8080/"
    },
    "id": "58630149",
    "outputId": "e19d66b1-690c-4cc5-c754-c4b5d1b16d38"
   },
   "outputs": [
    {
     "name": "stdout",
     "output_type": "stream",
     "text": [
      "- Number of signals: 6\n",
      "- Duration: 14.2 hours\n",
      "- Base sampling frequency: 62.4725 Hz\n"
     ]
    }
   ],
   "source": [
    "print(f\"- Number of signals: {record_data.n_sig}\".format())\n",
    "print(f\"- Duration: {record_data.sig_len/(record_data.fs*60*60):.1f} hours\") \n",
    "print(f\"- Base sampling frequency: {record_data.fs} Hz\")"
   ]
  },
  {
   "cell_type": "markdown",
   "id": "7b3da17f",
   "metadata": {
    "id": "7b3da17f"
   },
   "source": [
    "---\n",
    "## Inspect the segments making up a record\n",
    "Each record is typically made up of several segments"
   ]
  },
  {
   "cell_type": "code",
   "execution_count": 11,
   "id": "b127c857",
   "metadata": {
    "colab": {
     "base_uri": "https://localhost:8080/"
    },
    "id": "b127c857",
    "outputId": "4fe5a2b3-b95b-4bbe-db18-fabb199f0584"
   },
   "outputs": [
    {
     "name": "stdout",
     "output_type": "stream",
     "text": [
      "The 6 segments from record 83411188 are:\n",
      "['83411188_0000', '83411188_0001', '83411188_0002', '83411188_0003', '83411188_0004', '83411188_0005']\n"
     ]
    }
   ],
   "source": [
    "segments = record_data.seg_name\n",
    "print(f\"The {len(segments)} segments from record {record_name} are:\\n{segments}\")"
   ]
  },
  {
   "cell_type": "markdown",
   "id": "b379eaaf",
   "metadata": {
    "id": "b379eaaf"
   },
   "source": [
    "The format of filename for each segment is: `record directory, \"_\", segment number`"
   ]
  },
  {
   "cell_type": "markdown",
   "id": "f19d231b",
   "metadata": {
    "id": "f19d231b"
   },
   "source": [
    "---\n",
    "## Inspect an individual segment\n",
    "### Read the metadata for this segment\n",
    "- Read the metadata from the header file"
   ]
  },
  {
   "cell_type": "code",
   "execution_count": 12,
   "id": "7f70d34f",
   "metadata": {
    "colab": {
     "base_uri": "https://localhost:8080/"
    },
    "id": "7f70d34f",
    "outputId": "d1bd96de-09d9-4cf2-fa35-1bbcb5ddced4"
   },
   "outputs": [
    {
     "name": "stdout",
     "output_type": "stream",
     "text": [
      "Header metadata loaded for: \n",
      "- the segment '83411188_0001'\n",
      "- in record '83411188'\n",
      "- for subject 'p10039708'\n",
      "\n"
     ]
    }
   ],
   "source": [
    "segment_metadata = wfdb.rdheader(record_name=segments[2], pn_dir=record_dir)\n",
    "\n",
    "print(f\"\"\"Header metadata loaded for: \n",
    "- the segment '{segments[1]}'\n",
    "- in record '{record_name}'\n",
    "- for subject '{str(Path(record_dir).parent.parts[-1])}'\n",
    "\"\"\")"
   ]
  },
  {
   "cell_type": "markdown",
   "id": "d28771ac",
   "metadata": {
    "id": "d28771ac"
   },
   "source": [
    "### Find out what signals are present"
   ]
  },
  {
   "cell_type": "code",
   "execution_count": 13,
   "id": "324727df",
   "metadata": {
    "colab": {
     "base_uri": "https://localhost:8080/"
    },
    "id": "324727df",
    "outputId": "223bdb49-5023-453d-f2b7-a016a603fec9"
   },
   "outputs": [
    {
     "name": "stdout",
     "output_type": "stream",
     "text": [
      "This segment contains the following signals: ['II', 'V', 'aVR', 'ABP', 'Pleth', 'Resp']\n",
      "The signals are measured in units of: ['mV', 'mV', 'mV', 'mmHg', 'NU', 'Ohm']\n"
     ]
    }
   ],
   "source": [
    "print(f\"This segment contains the following signals: {segment_metadata.sig_name}\")\n",
    "print(f\"The signals are measured in units of: {segment_metadata.units}\")"
   ]
  },
  {
   "cell_type": "markdown",
   "id": "f09b3f37",
   "metadata": {
    "id": "f09b3f37"
   },
   "source": [
    "See [here](https://archive.physionet.org/mimic2/mimic2_waveform_overview.shtml#signals-125-samplessecond) for definitions of signal abbreviations."
   ]
  },
  {
   "cell_type": "code",
   "execution_count": 14,
   "id": "83cac8fb",
   "metadata": {},
   "outputs": [
    {
     "name": "stdout",
     "output_type": "stream",
     "text": [
      "This segment contains the following signals: ['II', 'V', 'aVR', 'ABP', 'Pleth', 'Resp']\n",
      "The signals are measured in units of: ['mV', 'mV', 'mV', 'mmHg', 'NU', 'Ohm']\n"
     ]
    }
   ],
   "source": [
    "segment_metadata2 = wfdb.rdheader(record_name=segments[5], pn_dir=record_dir)\n",
    "print(f\"This segment contains the following signals: {segment_metadata.sig_name}\")\n",
    "print(f\"The signals are measured in units of: {segment_metadata.units}\")"
   ]
  },
  {
   "cell_type": "markdown",
   "id": "3f56dd61",
   "metadata": {
    "id": "3f56dd61"
   },
   "source": [
    "<div class=\"alert alert-block alert-info\">\n",
    "<p><b>Q:</b> Which of these signals is no longer present in segment '83411188_0005'?</p>\n",
    "</div>"
   ]
  },
  {
   "cell_type": "markdown",
   "id": "9f921f27",
   "metadata": {
    "id": "9f921f27"
   },
   "source": [
    "### Find out how long each signal lasts"
   ]
  },
  {
   "cell_type": "markdown",
   "id": "d217b764",
   "metadata": {
    "id": "d217b764"
   },
   "source": [
    "All signals in a segment are time-aligned, measured at the same sampling frequency, and last the same duration:"
   ]
  },
  {
   "cell_type": "code",
   "execution_count": 15,
   "id": "c44f00a7",
   "metadata": {
    "colab": {
     "base_uri": "https://localhost:8080/"
    },
    "id": "c44f00a7",
    "outputId": "1cfa789e-b66b-4c8e-805b-4197c663ba18"
   },
   "outputs": [
    {
     "name": "stdout",
     "output_type": "stream",
     "text": [
      "The signals have a base sampling frequency of 62.5 Hz\n",
      "and they last for 0.9 minutes\n"
     ]
    }
   ],
   "source": [
    "print(f\"The signals have a base sampling frequency of {segment_metadata.fs:.1f} Hz\")\n",
    "print(f\"and they last for {segment_metadata.sig_len/(segment_metadata.fs*60):.1f} minutes\")"
   ]
  },
  {
   "cell_type": "markdown",
   "id": "d2a80895",
   "metadata": {
    "id": "d2a80895"
   },
   "source": [
    "## Identify records suitable for analysis"
   ]
  },
  {
   "cell_type": "markdown",
   "id": "1a3218d3",
   "metadata": {
    "id": "1a3218d3"
   },
   "source": [
    "- The signals and their durations vary from one record (and segment) to the next. \n",
    "- Since most studies require specific types of signals (e.g. blood pressure and photoplethysmography signals), we need to be able to identify which records (or segments) contain the required signals and duration."
   ]
  },
  {
   "cell_type": "markdown",
   "id": "b02c0b4e",
   "metadata": {
    "id": "b02c0b4e"
   },
   "source": [
    "### Setup"
   ]
  },
  {
   "cell_type": "code",
   "execution_count": 16,
   "id": "5bb47556",
   "metadata": {
    "id": "5bb47556"
   },
   "outputs": [],
   "source": [
    "import pandas as pd\n",
    "from pprint import pprint"
   ]
  },
  {
   "cell_type": "code",
   "execution_count": 17,
   "id": "95181681",
   "metadata": {
    "colab": {
     "base_uri": "https://localhost:8080/"
    },
    "id": "95181681",
    "outputId": "544c69db-59d9-432c-ee6c-10e1b0f54318"
   },
   "outputs": [
    {
     "name": "stdout",
     "output_type": "stream",
     "text": [
      "Earlier, we loaded 200 records from the 'mimic4wdb/0.1.0' database.\n"
     ]
    }
   ],
   "source": [
    "print(f\"Earlier, we loaded {len(records)} records from the '{database_name}' database.\")"
   ]
  },
  {
   "cell_type": "markdown",
   "id": "7f2b5955",
   "metadata": {
    "id": "7f2b5955"
   },
   "source": [
    "### Specify requirements"
   ]
  },
  {
   "cell_type": "markdown",
   "id": "83f8611c",
   "metadata": {
    "id": "83f8611c"
   },
   "source": [
    "- Required signals"
   ]
  },
  {
   "cell_type": "code",
   "execution_count": 18,
   "id": "3d1505ab",
   "metadata": {
    "id": "3d1505ab"
   },
   "outputs": [],
   "source": [
    "required_sigs = ['II', 'V']"
   ]
  },
  {
   "cell_type": "markdown",
   "id": "03920810",
   "metadata": {
    "id": "03920810"
   },
   "source": [
    "- Required duration"
   ]
  },
  {
   "cell_type": "code",
   "execution_count": 19,
   "id": "568a93c1",
   "metadata": {
    "id": "568a93c1"
   },
   "outputs": [],
   "source": [
    "# convert from minutes to seconds\n",
    "req_seg_duration = 10*60 "
   ]
  },
  {
   "cell_type": "markdown",
   "id": "d49187cd",
   "metadata": {
    "id": "d49187cd"
   },
   "source": [
    "### Find out how many records meet the requirements"
   ]
  },
  {
   "cell_type": "markdown",
   "id": "65f2cdce",
   "metadata": {
    "id": "65f2cdce"
   },
   "source": [
    "_NB: This step may take a while. The results are copied below to save running it yourself._"
   ]
  },
  {
   "cell_type": "code",
   "execution_count": 20,
   "id": "015b47d3",
   "metadata": {
    "id": "015b47d3"
   },
   "outputs": [
    {
     "name": "stdout",
     "output_type": "stream",
     "text": [
      "Record: waves/p100/p10014354/81739927/81739927 (reading data)\n",
      " - Segment: 81739927_0000 (too short at 0.0 mins)\n",
      " - Segment: 81739927_0001 (too short at 0.1 mins)\n",
      " - Segment: 81739927_0002 (too short at 0.9 mins)\n",
      " - Segment: 81739927_0003 (too short at 0.1 mins)\n",
      " - Segment: 81739927_0004 (too short at 0.0 mins)\n",
      " - Segment: 81739927_0005 (too short at 0.5 mins)\n",
      " - Segment: 81739927_0006 (too short at 0.1 mins)\n",
      " - Segment: 81739927_0007 (too short at 0.0 mins)\n",
      " - Segment: 81739927_0008 (met requirements)\n",
      "Record: waves/p100/p10019003/87033314/87033314 (reading data)\n",
      " - Segment: 87033314_0000 (too short at 0.0 mins)\n",
      " - Segment: 87033314_0001 (too short at 5.2 mins)\n",
      " - Segment: 87033314_0002 (too short at 0.1 mins)\n",
      " - Segment: 87033314_0003 (too short at 0.0 mins)\n",
      " - Segment: 87033314_0004 (too short at 0.1 mins)\n",
      " - Segment: 87033314_0005 (met requirements)\n",
      "Record: waves/p100/p10020306/83404654/83404654 (reading data)\n",
      " - Segment: 83404654_0000 (too short at 0.0 mins)\n",
      " - Segment: 83404654_0001 (met requirements)\n",
      "Record: waves/p100/p10039708/83411188/83411188 (reading data)\n",
      " - Segment: 83411188_0000 (too short at 0.0 mins)\n",
      " - Segment: 83411188_0001 (too short at 0.1 mins)\n",
      " - Segment: 83411188_0002 (too short at 0.9 mins)\n",
      " - Segment: 83411188_0003 (too short at 0.3 mins)\n",
      " - Segment: 83411188_0004 (too short at 0.3 mins)\n",
      " - Segment: 83411188_0005 (met requirements)\n",
      "Record: waves/p100/p10039708/85583557/85583557 (reading data)\n",
      " - Segment: 85583557_0000 (too short at 0.0 mins)\n",
      " - Segment: 85583557_0001 (met requirements)\n",
      "Record: waves/p100/p10079700/85594648/85594648 (reading data)\n",
      " - Segment: 85594648_0000 (too short at 0.0 mins)\n",
      " - Segment: 85594648_0001 (met requirements)\n",
      "Record: waves/p100/p10082591/84050536/84050536 (reading data)\n",
      "   (missing signals)\n",
      "Record: waves/p101/p10100546/83268087/83268087 (reading data)\n",
      " - Segment: 83268087_0000 (too short at 0.0 mins)\n",
      " - Segment: 83268087_0001 (long enough, but missing signal(s))\n",
      " - Segment: 83268087_0002 (too short at 0.0 mins)\n",
      " - Segment: 83268087_0003 (too short at 0.1 mins)\n",
      " - Segment: 83268087_0004 (too short at 0.1 mins)\n",
      " - Segment: 83268087_0005 (too short at 0.1 mins)\n",
      " - Segment: 83268087_0006 (too short at 0.0 mins)\n",
      " - Segment: 83268087_0007 (too short at 0.0 mins)\n",
      " - Segment: 83268087_0008 (too short at 0.1 mins)\n",
      " - Segment: 83268087_0009 (too short at 0.3 mins)\n",
      " - Segment: 83268087_0010 (too short at 0.2 mins)\n",
      " - Segment: 83268087_0011 (too short at 0.0 mins)\n",
      " - Segment: 83268087_0012 (too short at 0.1 mins)\n",
      " - Segment: 83268087_0013 (too short at 0.0 mins)\n",
      " - Segment: 83268087_0014 (too short at 0.0 mins)\n",
      " - Segment: 83268087_0015 (too short at 0.1 mins)\n",
      " - Segment: 83268087_0016 (too short at 1.7 mins)\n",
      " - Segment: 83268087_0017 (too short at 0.2 mins)\n",
      " - Segment: 83268087_0018 (too short at 0.1 mins)\n",
      " - Segment: 83268087_0019 (too short at 0.9 mins)\n",
      " - Segment: 83268087_0020 (long enough, but missing signal(s))\n",
      " - Segment: 83268087_0021 (too short at 0.1 mins)\n",
      " - Segment: 83268087_0022 (too short at 0.0 mins)\n",
      " - Segment: 83268087_0023 (too short at 0.1 mins)\n",
      " - Segment: 83268087_0024 (too short at 4.5 mins)\n",
      " - Segment: 83268087_0025 (too short at 0.0 mins)\n",
      " - Segment: 83268087_0026 (too short at 0.1 mins)\n",
      " - Segment: 83268087_0027 (too short at 0.6 mins)\n",
      " - Segment: 83268087_0028 (too short at 0.1 mins)\n",
      " - Segment: 83268087_0029 (too short at 0.0 mins)\n",
      " - Segment: 83268087_0030 (too short at 0.0 mins)\n",
      " - Segment: 83268087_0031 (too short at 0.1 mins)\n",
      " - Segment: 83268087_0032 (long enough, but missing signal(s))\n",
      " - Segment: 83268087_0033 (too short at 0.1 mins)\n",
      " - Segment: 83268087_0034 (too short at 1.6 mins)\n",
      " - Segment: 83268087_0035 (too short at 0.1 mins)\n",
      " - Segment: 83268087_0036 (too short at 0.1 mins)\n",
      " - Segment: 83268087_0037 (long enough, but missing signal(s))\n",
      " - Segment: 83268087_0038 (long enough, but missing signal(s))\n",
      " - Segment: 83268087_0039 (too short at 0.6 mins)\n",
      " - Segment: 83268087_0040 (too short at 0.2 mins)\n",
      " - Segment: 83268087_0041 (too short at 0.1 mins)\n",
      " - Segment: 83268087_0042 (long enough, but missing signal(s))\n",
      " - Segment: 83268087_0043 (too short at 0.1 mins)\n",
      " - Segment: 83268087_0044 (too short at 0.0 mins)\n",
      " - Segment: 83268087_0045 (long enough, but missing signal(s))\n",
      " - Segment: 83268087_0046 (long enough, but missing signal(s))\n",
      " - Segment: 83268087_0047 (long enough, but missing signal(s))\n",
      " - Segment: 83268087_0048 (too short at 0.1 mins)\n",
      " - Segment: 83268087_0049 (too short at 0.0 mins)\n",
      " - Segment: 83268087_0050 (too short at 0.3 mins)\n",
      " - Segment: 83268087_0051 (too short at 0.2 mins)\n",
      " - Segment: 83268087_0052 (too short at 0.1 mins)\n",
      " - Segment: 83268087_0053 (long enough, but missing signal(s))\n",
      " - Segment: 83268087_0054 (too short at 0.0 mins)\n",
      " - Segment: 83268087_0055 (too short at 0.1 mins)\n",
      " - Segment: 83268087_0056 (too short at 1.5 mins)\n",
      " - Segment: 83268087_0057 (too short at 0.2 mins)\n",
      " - Segment: 83268087_0058 (too short at 0.1 mins)\n",
      " - Segment: 83268087_0059 (long enough, but missing signal(s))\n",
      " - Segment: 83268087_0060 (too short at 0.1 mins)\n",
      " - Segment: 83268087_0061 (too short at 0.3 mins)\n",
      " - Segment: 83268087_0062 (too short at 0.1 mins)\n",
      " - Segment: 83268087_0063 (too short at 0.4 mins)\n",
      " - Segment: 83268087_0064 (too short at 0.3 mins)\n",
      " - Segment: 83268087_0065 (too short at 0.3 mins)\n",
      " - Segment: 83268087_0066 (too short at 0.4 mins)\n",
      " - Segment: 83268087_0067 (too short at 0.3 mins)\n",
      " - Segment: 83268087_0068 (too short at 0.2 mins)\n",
      " - Segment: 83268087_0069 (too short at 0.1 mins)\n",
      " - Segment: 83268087_0070 (long enough, but missing signal(s))\n",
      " - Segment: 83268087_0071 (long enough, but missing signal(s))\n",
      " - Segment: 83268087_0072 (too short at 0.0 mins)\n",
      " - Segment: 83268087_0073 (too short at 0.3 mins)\n",
      " - Segment: 83268087_0074 (too short at 0.1 mins)\n",
      " - Segment: 83268087_0075 (too short at 0.1 mins)\n",
      " - Segment: 83268087_0076 (too short at 0.1 mins)\n",
      " - Segment: 83268087_0077 (too short at 5.7 mins)\n",
      " - Segment: 83268087_0078 (too short at 0.1 mins)\n",
      " - Segment: 83268087_0079 (too short at 0.0 mins)\n",
      " - Segment: 83268087_0080 (too short at 0.1 mins)\n",
      " - Segment: 83268087_0081 (too short at 0.1 mins)\n",
      " - Segment: 83268087_0082 (too short at 0.0 mins)\n",
      " - Segment: 83268087_0083 (too short at 0.1 mins)\n",
      " - Segment: 83268087_0084 (too short at 0.0 mins)\n",
      " - Segment: 83268087_0085 (too short at 1.4 mins)\n",
      " - Segment: 83268087_0086 (too short at 0.2 mins)\n",
      " - Segment: 83268087_0087 (too short at 0.1 mins)\n",
      " - Segment: 83268087_0088 (too short at 3.5 mins)\n",
      " - Segment: 83268087_0089 (too short at 0.1 mins)\n",
      " - Segment: 83268087_0090 (too short at 0.0 mins)\n",
      " - Segment: 83268087_0091 (too short at 0.1 mins)\n",
      " - Segment: 83268087_0092 (long enough, but missing signal(s))\n",
      " - Segment: 83268087_0093 (too short at 0.0 mins)\n",
      " - Segment: 83268087_0094 (too short at 0.1 mins)\n",
      " - Segment: 83268087_0095 (too short at 0.0 mins)\n",
      " - Segment: 83268087_0096 (too short at 0.0 mins)\n",
      " - Segment: 83268087_0097 (too short at 0.1 mins)\n",
      " - Segment: 83268087_0098 (too short at 1.4 mins)\n",
      " - Segment: 83268087_0099 (too short at 0.2 mins)\n",
      " - Segment: 83268087_0100 (too short at 0.0 mins)\n",
      " - Segment: 83268087_0101 (too short at 6.3 mins)\n",
      " - Segment: 83268087_0102 (too short at 0.0 mins)\n",
      " - Segment: 83268087_0103 (long enough, but missing signal(s))\n",
      " - Segment: 83268087_0104 (too short at 0.9 mins)\n",
      " - Segment: 83268087_0105 (too short at 0.2 mins)\n",
      " - Segment: 83268087_0106 (too short at 0.0 mins)\n",
      " - Segment: 83268087_0107 (too short at 0.1 mins)\n",
      " - Segment: 83268087_0108 (too short at 1.5 mins)\n",
      " - Segment: 83268087_0109 (too short at 0.1 mins)\n",
      " - Segment: 83268087_0110 (too short at 0.1 mins)\n",
      " - Segment: 83268087_0111 (long enough, but missing signal(s))\n",
      " - Segment: 83268087_0112 (long enough, but missing signal(s))\n",
      " - Segment: 83268087_0113 (long enough, but missing signal(s))\n",
      " - Segment: 83268087_0114 (long enough, but missing signal(s))\n",
      " - Segment: 83268087_0115 (too short at 0.1 mins)\n",
      " - Segment: 83268087_0116 (long enough, but missing signal(s))\n",
      " - Segment: 83268087_0117 (long enough, but missing signal(s))\n",
      " - Segment: 83268087_0118 (long enough, but missing signal(s))\n",
      " - Segment: 83268087_0119 (long enough, but missing signal(s))\n",
      " - Segment: 83268087_0120 (long enough, but missing signal(s))\n"
     ]
    },
    {
     "name": "stdout",
     "output_type": "stream",
     "text": [
      " - Segment: 83268087_0121 (too short at 0.0 mins)\n",
      " - Segment: 83268087_0122 (too short at 0.1 mins)\n",
      " - Segment: 83268087_0123 (too short at 0.3 mins)\n",
      " - Segment: 83268087_0124 (too short at 0.0 mins)\n",
      " - Segment: 83268087_0125 (too short at 0.0 mins)\n",
      " - Segment: 83268087_0126 (long enough, but missing signal(s))\n",
      " - Segment: 83268087_0127 (too short at 0.0 mins)\n",
      " - Segment: 83268087_0128 (too short at 0.1 mins)\n",
      " - Segment: 83268087_0129 (met requirements)\n",
      "Record: waves/p101/p10112163/88501826/88501826 (reading data)\n",
      " - Segment: 88501826_0000 (too short at 0.0 mins)\n",
      " - Segment: 88501826_0001 (too short at 0.9 mins)\n",
      " - Segment: 88501826_0002 (too short at 1.3 mins)\n",
      " - Segment: 88501826_0003 (too short at 0.3 mins)\n",
      " - Segment: 88501826_0004 (too short at 0.0 mins)\n",
      " - Segment: 88501826_0005 (too short at 0.0 mins)\n",
      " - Segment: 88501826_0006 (too short at 0.1 mins)\n",
      " - Segment: 88501826_0007 (too short at 0.0 mins)\n",
      " - Segment: 88501826_0008 (met requirements)\n",
      "Record: waves/p101/p10126957/82924339/82924339 (reading data)\n",
      " - Segment: 82924339_0000 (too short at 0.0 mins)\n",
      " - Segment: 82924339_0001 (too short at 0.2 mins)\n",
      " - Segment: 82924339_0002 (too short at 0.1 mins)\n",
      " - Segment: 82924339_0003 (too short at 0.4 mins)\n",
      " - Segment: 82924339_0004 (too short at 0.1 mins)\n",
      " - Segment: 82924339_0005 (too short at 0.0 mins)\n",
      " - Segment: 82924339_0006 (too short at 5.3 mins)\n",
      " - Segment: 82924339_0007 (met requirements)\n",
      "Record: waves/p102/p10209410/84248019/84248019 (reading data)\n",
      " - Segment: 84248019_0000 (too short at 0.0 mins)\n",
      " - Segment: 84248019_0001 (too short at 0.1 mins)\n",
      " - Segment: 84248019_0002 (too short at 4.8 mins)\n",
      " - Segment: 84248019_0003 (too short at 0.2 mins)\n",
      " - Segment: 84248019_0004 (too short at 1.0 mins)\n",
      " - Segment: 84248019_0005 (met requirements)\n",
      "Record: waves/p103/p10303080/88399302/88399302 (reading data)\n",
      " - Segment: 88399302_0000 (too short at 0.0 mins)\n",
      " - Segment: 88399302_0001 (met requirements)\n",
      "Record: waves/p104/p10494990/88374538/88374538 (reading data)\n",
      " - Segment: 88374538_0000 (too short at 0.0 mins)\n",
      " - Segment: 88374538_0001 (too short at 0.3 mins)\n",
      " - Segment: 88374538_0002 (too short at 0.1 mins)\n",
      " - Segment: 88374538_0003 (too short at 0.0 mins)\n",
      " - Segment: 88374538_0004 (too short at 0.3 mins)\n",
      " - Segment: 88374538_0005 (too short at 0.0 mins)\n",
      " - Segment: 88374538_0006 (too short at 0.0 mins)\n",
      " - Segment: 88374538_0007 (too short at 3.2 mins)\n",
      " - Segment: 88374538_0008 (too short at 0.1 mins)\n",
      " - Segment: 88374538_0009 (too short at 0.0 mins)\n",
      " - Segment: 88374538_0010 (too short at 0.0 mins)\n",
      " - Segment: 88374538_0011 (too short at 0.1 mins)\n",
      " - Segment: 88374538_0012 (met requirements)\n",
      "Record: waves/p105/p10560354/81105139/81105139 (reading data)\n",
      "   (missing signals)\n",
      "Record: waves/p106/p10680081/86426168/86426168 (reading data)\n",
      " - Segment: 86426168_0000 (too short at 0.0 mins)\n",
      " - Segment: 86426168_0001 (too short at 0.2 mins)\n",
      " - Segment: 86426168_0002 (too short at 0.0 mins)\n",
      " - Segment: 86426168_0003 (too short at 0.1 mins)\n",
      " - Segment: 86426168_0004 (too short at 2.0 mins)\n",
      " - Segment: 86426168_0005 (too short at 0.1 mins)\n",
      " - Segment: 86426168_0006 (too short at 0.0 mins)\n",
      " - Segment: 86426168_0007 (too short at 0.0 mins)\n",
      " - Segment: 86426168_0008 (too short at 0.1 mins)\n",
      " - Segment: 86426168_0009 (too short at 0.0 mins)\n",
      " - Segment: 86426168_0010 (too short at 0.1 mins)\n",
      " - Segment: 86426168_0011 (too short at 0.1 mins)\n",
      " - Segment: 86426168_0012 (too short at 0.1 mins)\n",
      " - Segment: 86426168_0013 (too short at 0.0 mins)\n",
      " - Segment: 86426168_0014 (met requirements)\n",
      "Record: waves/p108/p10882818/81826943/81826943 (reading data)\n",
      " - Segment: 81826943_0000 (too short at 0.0 mins)\n",
      " - Segment: 81826943_0001 (too short at 5.7 mins)\n",
      " - Segment: 81826943_0002 (too short at 0.1 mins)\n",
      " - Segment: 81826943_0003 (too short at 0.1 mins)\n",
      " - Segment: 81826943_0004 (too short at 0.3 mins)\n",
      " - Segment: 81826943_0005 (too short at 0.0 mins)\n",
      " - Segment: 81826943_0006 (too short at 0.1 mins)\n",
      " - Segment: 81826943_0007 (too short at 0.1 mins)\n",
      " - Segment: 81826943_0008 (too short at 0.1 mins)\n",
      " - Segment: 81826943_0009 (too short at 0.0 mins)\n",
      " - Segment: 81826943_0010 (met requirements)\n",
      "Record: waves/p109/p10952189/82439920/82439920 (reading data)\n",
      " - Segment: 82439920_0000 (too short at 0.0 mins)\n",
      " - Segment: 82439920_0001 (too short at 0.1 mins)\n",
      " - Segment: 82439920_0002 (too short at 0.0 mins)\n",
      " - Segment: 82439920_0003 (too short at 0.1 mins)\n",
      " - Segment: 82439920_0004 (met requirements)\n",
      "Record: waves/p110/p11013146/82432904/82432904 (reading data)\n",
      " - Segment: 82432904_0000 (too short at 0.0 mins)\n",
      " - Segment: 82432904_0001 (too short at 2.8 mins)\n",
      " - Segment: 82432904_0002 (too short at 0.1 mins)\n",
      " - Segment: 82432904_0003 (too short at 0.0 mins)\n",
      " - Segment: 82432904_0004 (too short at 1.5 mins)\n",
      " - Segment: 82432904_0005 (too short at 0.2 mins)\n",
      " - Segment: 82432904_0006 (too short at 2.9 mins)\n",
      " - Segment: 82432904_0007 (met requirements)\n",
      "Record: waves/p111/p11109975/82800131/82800131 (reading data)\n",
      " - Segment: 82800131_0000 (too short at 0.0 mins)\n",
      " - Segment: 82800131_0001 (too short at 0.1 mins)\n",
      " - Segment: 82800131_0002 (met requirements)\n",
      "Record: waves/p113/p11320864/81312415/81312415 (reading data)\n",
      " - Segment: 81312415_0000 (too short at 0.0 mins)\n",
      " - Segment: 81312415_0001 (too short at 1.3 mins)\n",
      " - Segment: 81312415_0002 (too short at 0.2 mins)\n",
      " - Segment: 81312415_0003 (too short at 0.0 mins)\n",
      " - Segment: 81312415_0004 (too short at 0.3 mins)\n",
      " - Segment: 81312415_0005 (too short at 0.1 mins)\n",
      " - Segment: 81312415_0006 (too short at 0.0 mins)\n",
      " - Segment: 81312415_0007 (too short at 0.5 mins)\n",
      " - Segment: 81312415_0008 (met requirements)\n",
      "Record: waves/p113/p11392990/84304393/84304393 (reading data)\n",
      " - Segment: 84304393_0000 (too short at 0.0 mins)\n",
      " - Segment: 84304393_0001 (met requirements)\n",
      "Record: waves/p115/p11552552/82650378/82650378 (reading data)\n",
      " - Segment: 82650378_0000 (too short at 0.0 mins)\n",
      " - Segment: 82650378_0001 (met requirements)\n",
      "Record: waves/p115/p11552552/88733244/88733244 (reading data)\n",
      " - Segment: 88733244_0000 (too short at 0.0 mins)\n",
      " - Segment: 88733244_0001 (too short at 0.3 mins)\n",
      " - Segment: 88733244_0002 (too short at 0.0 mins)\n",
      " - Segment: 88733244_0003 (too short at 0.0 mins)\n",
      " - Segment: 88733244_0004 (too short at 1.4 mins)\n",
      " - Segment: 88733244_0005 (too short at 0.6 mins)\n",
      " - Segment: 88733244_0006 (met requirements)\n",
      "Record: waves/p115/p11558369/88636340/88636340 (reading data)\n",
      " - Segment: 88636340_0000 (too short at 0.0 mins)\n",
      " - Segment: 88636340_0001 (too short at 3.2 mins)\n",
      " - Segment: 88636340_0002 (met requirements)\n",
      "Record: waves/p115/p11573811/87942784/87942784 (reading data)\n",
      " - Segment: 87942784_0000 (too short at 0.0 mins)\n",
      " - Segment: 87942784_0001 (too short at 0.2 mins)\n",
      " - Segment: 87942784_0002 (too short at 0.2 mins)\n",
      " - Segment: 87942784_0003 (too short at 0.1 mins)\n",
      " - Segment: 87942784_0004 (too short at 0.1 mins)\n",
      " - Segment: 87942784_0005 (too short at 0.0 mins)\n",
      " - Segment: 87942784_0006 (too short at 0.1 mins)\n",
      " - Segment: 87942784_0007 (met requirements)\n",
      "Record: waves/p115/p11596691/86130599/86130599 (reading data)\n",
      " - Segment: 86130599_0000 (too short at 0.0 mins)\n",
      " - Segment: 86130599_0001 (met requirements)\n",
      "Record: waves/p116/p11699665/81602645/81602645 (reading data)\n",
      " - Segment: 81602645_0000 (too short at 0.0 mins)\n",
      " - Segment: 81602645_0001 (met requirements)\n",
      "Record: waves/p119/p11944882/88867862/88867862 (reading data)\n",
      " - Segment: 88867862_0000 (too short at 0.0 mins)\n",
      " - Segment: 88867862_0001 (met requirements)\n",
      "Record: waves/p121/p12168037/89464742/89464742 (reading data)\n",
      " - Segment: 89464742_0000 (too short at 0.0 mins)\n",
      " - Segment: 89464742_0001 (met requirements)\n",
      "Record: waves/p121/p12173569/88958796/88958796 (reading data)\n",
      " - Segment: 88958796_0000 (too short at 0.0 mins)\n",
      " - Segment: 88958796_0001 (too short at 1.6 mins)\n",
      " - Segment: 88958796_0002 (too short at 6.5 mins)\n",
      " - Segment: 88958796_0003 (too short at 0.5 mins)\n",
      " - Segment: 88958796_0004 (met requirements)\n",
      "Record: waves/p121/p12188288/88995377/88995377 (reading data)\n",
      " - Segment: 88995377_0000 (too short at 0.0 mins)\n",
      " - Segment: 88995377_0001 (met requirements)\n",
      "Record: waves/p122/p12226163/85982742/85982742 (reading data)\n",
      " - Segment: 85982742_0000 (too short at 0.0 mins)\n"
     ]
    },
    {
     "name": "stdout",
     "output_type": "stream",
     "text": [
      " - Segment: 85982742_0001 (too short at 1.5 mins)\n",
      "Record: waves/p122/p12246674/81515145/81515145 (reading data)\n",
      " - Segment: 81515145_0000 (too short at 0.0 mins)\n",
      " - Segment: 81515145_0001 (too short at 0.1 mins)\n",
      " - Segment: 81515145_0002 (too short at 3.2 mins)\n",
      " - Segment: 81515145_0003 (too short at 0.2 mins)\n",
      " - Segment: 81515145_0004 (too short at 0.0 mins)\n",
      " - Segment: 81515145_0005 (too short at 0.1 mins)\n",
      " - Segment: 81515145_0006 (too short at 0.1 mins)\n",
      " - Segment: 81515145_0007 (too short at 0.0 mins)\n",
      " - Segment: 81515145_0008 (met requirements)\n",
      "Record: waves/p122/p12290932/84513510/84513510 (reading data)\n",
      " - Segment: 84513510_0000 (too short at 0.0 mins)\n",
      " - Segment: 84513510_0001 (too short at 0.1 mins)\n",
      " - Segment: 84513510_0002 (met requirements)\n",
      "Record: waves/p122/p12295067/86906600/86906600 (reading data)\n",
      " - Segment: 86906600_0000 (too short at 0.0 mins)\n",
      " - Segment: 86906600_0001 (too short at 4.5 mins)\n",
      " - Segment: 86906600_0002 (too short at 0.1 mins)\n",
      " - Segment: 86906600_0003 (too short at 0.1 mins)\n",
      " - Segment: 86906600_0004 (too short at 0.1 mins)\n",
      " - Segment: 86906600_0005 (too short at 0.0 mins)\n",
      " - Segment: 86906600_0006 (too short at 0.0 mins)\n",
      " - Segment: 86906600_0007 (met requirements)\n",
      "Record: waves/p124/p12408438/88826653/88826653 (reading data)\n",
      " - Segment: 88826653_0000 (too short at 0.0 mins)\n",
      " - Segment: 88826653_0001 (too short at 0.1 mins)\n",
      " - Segment: 88826653_0002 (too short at 0.0 mins)\n",
      " - Segment: 88826653_0003 (too short at 0.2 mins)\n",
      " - Segment: 88826653_0004 (too short at 0.1 mins)\n",
      " - Segment: 88826653_0005 (too short at 0.0 mins)\n",
      " - Segment: 88826653_0006 (too short at 0.0 mins)\n",
      " - Segment: 88826653_0007 (too short at 0.1 mins)\n",
      " - Segment: 88826653_0008 (met requirements)\n",
      "Record: waves/p124/p12424398/81741333/81741333 (reading data)\n",
      " - Segment: 81741333_0000 (too short at 0.0 mins)\n",
      " - Segment: 81741333_0001 (met requirements)\n",
      "Record: waves/p124/p12449182/84179115/84179115 (reading data)\n",
      " - Segment: 84179115_0000 (too short at 0.0 mins)\n",
      " - Segment: 84179115_0001 (too short at 3.2 mins)\n",
      " - Segment: 84179115_0002 (long enough, but missing signal(s))\n",
      " - Segment: 84179115_0003 (too short at 0.1 mins)\n",
      " - Segment: 84179115_0004 (too short at 0.0 mins)\n",
      " - Segment: 84179115_0005 (too short at 1.7 mins)\n",
      "Record: waves/p124/p12470697/84213440/84213440 (reading data)\n",
      " - Segment: 84213440_0000 (too short at 0.0 mins)\n",
      " - Segment: 84213440_0001 (too short at 0.1 mins)\n",
      " - Segment: 84213440_0002 (too short at 2.6 mins)\n",
      "Record: waves/p125/p12545470/80674263/80674263 (reading data)\n",
      " - Segment: 80674263_0000 (too short at 0.0 mins)\n",
      " - Segment: 80674263_0001 (met requirements)\n",
      "Record: waves/p125/p12563752/85393521/85393521 (reading data)\n",
      " - Segment: 85393521_0000 (too short at 0.0 mins)\n",
      " - Segment: 85393521_0001 (too short at 0.9 mins)\n",
      " - Segment: 85393521_0002 (too short at 0.1 mins)\n",
      " - Segment: 85393521_0003 (too short at 0.0 mins)\n",
      " - Segment: 85393521_0004 (too short at 0.0 mins)\n",
      " - Segment: 85393521_0005 (too short at 0.3 mins)\n",
      " - Segment: 85393521_0006 (met requirements)\n",
      "Record: waves/p125/p12567919/82552643/82552643 (reading data)\n",
      " - Segment: 82552643_0000 (too short at 0.0 mins)\n",
      " - Segment: 82552643_0001 (met requirements)\n",
      "Record: waves/p127/p12789108/85835247/85835247 (reading data)\n",
      " - Segment: 85835247_0000 (too short at 0.0 mins)\n",
      " - Segment: 85835247_0001 (met requirements)\n",
      "Record: waves/p128/p12801061/80154334/80154334 (reading data)\n",
      " - Segment: 80154334_0000 (too short at 0.0 mins)\n",
      " - Segment: 80154334_0001 (met requirements)\n",
      "Record: waves/p128/p12807320/81739815/81739815 (reading data)\n",
      " - Segment: 81739815_0000 (too short at 0.0 mins)\n",
      " - Segment: 81739815_0001 (met requirements)\n",
      "Record: waves/p128/p12847457/83054955/83054955 (reading data)\n",
      " - Segment: 83054955_0000 (too short at 0.0 mins)\n",
      " - Segment: 83054955_0001 (too short at 0.1 mins)\n",
      " - Segment: 83054955_0002 (too short at 0.0 mins)\n",
      " - Segment: 83054955_0003 (met requirements)\n",
      "Record: waves/p128/p12872596/85230771/85230771 (reading data)\n",
      " - Segment: 85230771_0000 (too short at 0.0 mins)\n",
      " - Segment: 85230771_0001 (too short at 0.1 mins)\n",
      " - Segment: 85230771_0002 (too short at 0.3 mins)\n",
      " - Segment: 85230771_0003 (too short at 0.1 mins)\n",
      " - Segment: 85230771_0004 (met requirements)\n",
      "Record: waves/p128/p12882754/84094519/84094519 (reading data)\n",
      " - Segment: 84094519_0000 (too short at 0.0 mins)\n",
      " - Segment: 84094519_0001 (too short at 3.2 mins)\n",
      " - Segment: 84094519_0002 (met requirements)\n",
      "Record: waves/p129/p12933208/86643930/86643930 (reading data)\n",
      " - Segment: 86643930_0000 (too short at 0.0 mins)\n",
      " - Segment: 86643930_0001 (met requirements)\n",
      "Record: waves/p129/p12961799/86114120/86114120 (reading data)\n",
      "   (missing signals)\n",
      "Record: waves/p130/p13016481/81250824/81250824 (reading data)\n",
      " - Segment: 81250824_0000 (too short at 0.0 mins)\n",
      " - Segment: 81250824_0001 (too short at 1.3 mins)\n",
      " - Segment: 81250824_0002 (too short at 0.1 mins)\n",
      " - Segment: 81250824_0003 (too short at 0.0 mins)\n",
      " - Segment: 81250824_0004 (too short at 1.4 mins)\n",
      " - Segment: 81250824_0005 (met requirements)\n",
      "Record: waves/p130/p13080738/85361504/85361504 (reading data)\n",
      " - Segment: 85361504_0000 (too short at 0.0 mins)\n",
      " - Segment: 85361504_0001 (met requirements)\n",
      "Record: waves/p130/p13090274/87473566/87473566 (reading data)\n",
      " - Segment: 87473566_0000 (too short at 0.0 mins)\n",
      " - Segment: 87473566_0001 (met requirements)\n",
      "Record: waves/p131/p13184012/87023605/87023605 (reading data)\n",
      " - Segment: 87023605_0000 (too short at 0.0 mins)\n",
      " - Segment: 87023605_0001 (too short at 3.8 mins)\n",
      " - Segment: 87023605_0002 (too short at 0.2 mins)\n",
      " - Segment: 87023605_0003 (too short at 0.1 mins)\n",
      " - Segment: 87023605_0004 (too short at 0.0 mins)\n",
      " - Segment: 87023605_0005 (too short at 0.0 mins)\n",
      " - Segment: 87023605_0006 (met requirements)\n",
      "Record: waves/p132/p13208026/82342224/82342224 (reading data)\n",
      " - Segment: 82342224_0000 (too short at 0.0 mins)\n",
      " - Segment: 82342224_0001 (too short at 0.1 mins)\n",
      " - Segment: 82342224_0002 (too short at 0.0 mins)\n",
      " - Segment: 82342224_0003 (too short at 0.0 mins)\n",
      " - Segment: 82342224_0004 (too short at 0.1 mins)\n",
      " - Segment: 82342224_0005 (met requirements)\n",
      "Record: waves/p132/p13216117/81815063/81815063 (reading data)\n",
      " - Segment: 81815063_0000 (too short at 0.0 mins)\n",
      " - Segment: 81815063_0001 (met requirements)\n",
      "Record: waves/p132/p13240081/87706224/87706224 (reading data)\n",
      " - Segment: 87706224_0000 (too short at 0.0 mins)\n",
      " - Segment: 87706224_0001 (too short at 0.1 mins)\n",
      " - Segment: 87706224_0002 (too short at 8.0 mins)\n",
      " - Segment: 87706224_0003 (met requirements)\n",
      "Record: waves/p133/p13335291/89017807/89017807 (reading data)\n",
      "   (missing signals)\n",
      "Record: waves/p133/p13364831/82697127/82697127 (reading data)\n",
      " - Segment: 82697127_0000 (too short at 0.0 mins)\n",
      " - Segment: 82697127_0001 (too short at 3.8 mins)\n",
      " - Segment: 82697127_0002 (met requirements)\n",
      "Record: waves/p133/p13386985/81002096/81002096 (reading data)\n",
      "   (missing signals)\n",
      "Record: waves/p134/p13457656/88841356/88841356 (reading data)\n",
      " - Segment: 88841356_0000 (too short at 0.0 mins)\n",
      " - Segment: 88841356_0001 (met requirements)\n",
      "Record: waves/p134/p13496169/80200410/80200410 (reading data)\n",
      " - Segment: 80200410_0000 (too short at 0.0 mins)\n",
      " - Segment: 80200410_0001 (met requirements)\n",
      "Record: waves/p135/p13559368/86957236/86957236 (reading data)\n",
      "   (missing signals)\n",
      "Record: waves/p136/p13620446/83988903/83988903 (reading data)\n",
      " - Segment: 83988903_0000 (too short at 0.0 mins)\n",
      " - Segment: 83988903_0001 (too short at 1.6 mins)\n",
      " - Segment: 83988903_0002 (too short at 1.9 mins)\n",
      " - Segment: 83988903_0003 (too short at 0.2 mins)\n",
      " - Segment: 83988903_0004 (too short at 0.0 mins)\n",
      " - Segment: 83988903_0005 (too short at 0.1 mins)\n",
      " - Segment: 83988903_0006 (met requirements)\n",
      "Record: waves/p136/p13624686/83058614/83058614 (reading data)\n",
      " - Segment: 83058614_0000 (too short at 0.0 mins)\n",
      " - Segment: 83058614_0001 (too short at 0.1 mins)\n",
      " - Segment: 83058614_0002 (too short at 0.1 mins)\n",
      " - Segment: 83058614_0003 (too short at 0.0 mins)\n",
      " - Segment: 83058614_0004 (too short at 0.0 mins)\n",
      " - Segment: 83058614_0005 (met requirements)\n",
      "Record: waves/p136/p13687171/82266835/82266835 (reading data)\n",
      "   (missing signals)\n",
      "Record: waves/p137/p13724605/81178488/81178488 (reading data)\n"
     ]
    },
    {
     "name": "stdout",
     "output_type": "stream",
     "text": [
      " - Segment: 81178488_0000 (too short at 0.0 mins)\n",
      " - Segment: 81178488_0001 (too short at 0.0 mins)\n",
      " - Segment: 81178488_0002 (too short at 0.1 mins)\n",
      " - Segment: 81178488_0003 (too short at 0.6 mins)\n",
      " - Segment: 81178488_0004 (met requirements)\n",
      "Record: waves/p137/p13791821/82803505/82803505 (reading data)\n",
      " - Segment: 82803505_0000 (too short at 0.0 mins)\n",
      " - Segment: 82803505_0001 (too short at 0.1 mins)\n",
      " - Segment: 82803505_0002 (met requirements)\n",
      "Record: waves/p138/p13840756/85241465/85241465 (reading data)\n",
      " - Segment: 85241465_0000 (too short at 0.0 mins)\n",
      " - Segment: 85241465_0001 (too short at 0.3 mins)\n",
      " - Segment: 85241465_0002 (too short at 0.1 mins)\n",
      " - Segment: 85241465_0003 (too short at 0.0 mins)\n",
      " - Segment: 85241465_0004 (too short at 0.1 mins)\n",
      " - Segment: 85241465_0005 (too short at 0.0 mins)\n",
      " - Segment: 85241465_0006 (too short at 0.1 mins)\n",
      " - Segment: 85241465_0007 (met requirements)\n",
      "Record: waves/p139/p13909615/85874778/85874778 (reading data)\n",
      " - Segment: 85874778_0000 (too short at 0.0 mins)\n",
      " - Segment: 85874778_0001 (too short at 0.1 mins)\n",
      " - Segment: 85874778_0002 (too short at 0.8 mins)\n",
      " - Segment: 85874778_0003 (too short at 0.1 mins)\n",
      " - Segment: 85874778_0004 (too short at 1.7 mins)\n",
      " - Segment: 85874778_0005 (too short at 0.3 mins)\n",
      " - Segment: 85874778_0006 (too short at 0.4 mins)\n",
      " - Segment: 85874778_0007 (too short at 1.5 mins)\n",
      " - Segment: 85874778_0008 (too short at 0.8 mins)\n",
      " - Segment: 85874778_0009 (too short at 2.5 mins)\n",
      " - Segment: 85874778_0010 (met requirements)\n",
      "Record: waves/p140/p14025287/86429079/86429079 (reading data)\n",
      " - Segment: 86429079_0000 (too short at 0.0 mins)\n",
      " - Segment: 86429079_0001 (too short at 0.1 mins)\n",
      " - Segment: 86429079_0002 (too short at 0.1 mins)\n",
      " - Segment: 86429079_0003 (too short at 0.0 mins)\n",
      " - Segment: 86429079_0004 (too short at 0.0 mins)\n",
      " - Segment: 86429079_0005 (too short at 0.1 mins)\n",
      " - Segment: 86429079_0006 (too short at 0.0 mins)\n",
      " - Segment: 86429079_0007 (met requirements)\n",
      "Record: waves/p140/p14043090/80351079/80351079 (reading data)\n",
      " - Segment: 80351079_0000 (too short at 0.0 mins)\n",
      " - Segment: 80351079_0001 (met requirements)\n",
      "Record: waves/p140/p14057060/81396664/81396664 (reading data)\n",
      " - Segment: 81396664_0000 (too short at 0.0 mins)\n",
      " - Segment: 81396664_0001 (met requirements)\n",
      "Record: waves/p140/p14071752/87613677/87613677 (reading data)\n",
      " - Segment: 87613677_0000 (too short at 0.0 mins)\n",
      " - Segment: 87613677_0001 (met requirements)\n",
      "Record: waves/p141/p14141512/85863370/85863370 (reading data)\n",
      " - Segment: 85863370_0000 (too short at 0.0 mins)\n",
      " - Segment: 85863370_0001 (too short at 1.1 mins)\n",
      " - Segment: 85863370_0002 (too short at 0.2 mins)\n",
      " - Segment: 85863370_0003 (too short at 0.0 mins)\n",
      " - Segment: 85863370_0004 (too short at 0.5 mins)\n",
      " - Segment: 85863370_0005 (too short at 0.1 mins)\n",
      " - Segment: 85863370_0006 (too short at 0.0 mins)\n",
      " - Segment: 85863370_0007 (met requirements)\n",
      "Record: waves/p141/p14191565/88574629/88574629 (reading data)\n",
      " - Segment: 88574629_0000 (too short at 0.0 mins)\n",
      " - Segment: 88574629_0001 (met requirements)\n",
      "Record: waves/p142/p14260018/80493349/80493349 (reading data)\n",
      " - Segment: 80493349_0000 (too short at 0.0 mins)\n",
      " - Segment: 80493349_0001 (met requirements)\n",
      "Record: waves/p142/p14285792/87867111/87867111 (reading data)\n",
      " - Segment: 87867111_0000 (too short at 0.0 mins)\n",
      " - Segment: 87867111_0001 (met requirements)\n",
      "Record: waves/p143/p14328567/80030009/80030009 (reading data)\n",
      " - Segment: 80030009_0000 (too short at 0.0 mins)\n",
      " - Segment: 80030009_0001 (too short at 0.1 mins)\n",
      " - Segment: 80030009_0002 (too short at 3.8 mins)\n",
      "Record: waves/p143/p14356077/84560969/84560969 (reading data)\n",
      " - Segment: 84560969_0000 (too short at 0.0 mins)\n",
      " - Segment: 84560969_0001 (met requirements)\n",
      "Record: waves/p143/p14363499/87562386/87562386 (reading data)\n",
      " - Segment: 87562386_0000 (too short at 0.0 mins)\n",
      " - Segment: 87562386_0001 (met requirements)\n",
      "Record: waves/p145/p14504374/89909100/89909100 (reading data)\n",
      " - Segment: 89909100_0000 (too short at 0.0 mins)\n",
      " - Segment: 89909100_0001 (too short at 0.1 mins)\n",
      " - Segment: 89909100_0002 (too short at 3.7 mins)\n",
      " - Segment: 89909100_0003 (too short at 0.2 mins)\n",
      " - Segment: 89909100_0004 (too short at 0.1 mins)\n",
      " - Segment: 89909100_0005 (too short at 0.3 mins)\n",
      " - Segment: 89909100_0006 (too short at 0.0 mins)\n",
      " - Segment: 89909100_0007 (too short at 0.1 mins)\n",
      " - Segment: 89909100_0008 (met requirements)\n",
      "Record: waves/p145/p14573205/83993183/83993183 (reading data)\n",
      "   (missing signals)\n",
      "Record: waves/p146/p14629329/89923227/89923227 (reading data)\n",
      " - Segment: 89923227_0000 (too short at 0.0 mins)\n",
      " - Segment: 89923227_0001 (met requirements)\n",
      "Record: waves/p146/p14678292/82257762/82257762 (reading data)\n",
      " - Segment: 82257762_0000 (too short at 0.0 mins)\n",
      " - Segment: 82257762_0001 (met requirements)\n",
      "Record: waves/p146/p14695840/88685937/88685937 (reading data)\n",
      " - Segment: 88685937_0000 (too short at 0.0 mins)\n",
      " - Segment: 88685937_0001 (met requirements)\n",
      "Record: waves/p147/p14711488/80647461/80647461 (reading data)\n",
      " - Segment: 80647461_0000 (too short at 0.0 mins)\n",
      " - Segment: 80647461_0001 (too short at 3.1 mins)\n",
      "Record: waves/p147/p14739057/86201081/86201081 (reading data)\n",
      " - Segment: 86201081_0000 (too short at 0.0 mins)\n",
      " - Segment: 86201081_0001 (met requirements)\n",
      "Record: waves/p147/p14751132/87909383/87909383 (reading data)\n",
      "   (missing signals)\n",
      "Record: waves/p147/p14759494/87555605/87555605 (reading data)\n",
      " - Segment: 87555605_0000 (too short at 0.0 mins)\n",
      " - Segment: 87555605_0001 (too short at 1.2 mins)\n",
      "Record: waves/p147/p14781701/80705205/80705205 (reading data)\n",
      " - Segment: 80705205_0000 (too short at 0.0 mins)\n",
      " - Segment: 80705205_0001 (met requirements)\n",
      "Record: waves/p147/p14782379/83682560/83682560 (reading data)\n",
      " - Segment: 83682560_0000 (too short at 0.0 mins)\n",
      " - Segment: 83682560_0001 (too short at 0.9 mins)\n",
      " - Segment: 83682560_0002 (too short at 0.1 mins)\n",
      " - Segment: 83682560_0003 (too short at 0.3 mins)\n",
      " - Segment: 83682560_0004 (too short at 0.1 mins)\n",
      " - Segment: 83682560_0005 (met requirements)\n",
      "Record: waves/p148/p14811560/88188377/88188377 (reading data)\n",
      " - Segment: 88188377_0000 (too short at 0.0 mins)\n",
      " - Segment: 88188377_0001 (too short at 0.5 mins)\n",
      " - Segment: 88188377_0002 (met requirements)\n",
      "Record: waves/p149/p14931547/86120311/86120311 (reading data)\n",
      " - Segment: 86120311_0000 (too short at 0.0 mins)\n",
      " - Segment: 86120311_0001 (met requirements)\n",
      "Record: waves/p150/p15030787/82582002/82582002 (reading data)\n",
      " - Segment: 82582002_0000 (too short at 0.0 mins)\n",
      " - Segment: 82582002_0001 (met requirements)\n",
      "Record: waves/p151/p15174162/89866183/89866183 (reading data)\n",
      " - Segment: 89866183_0000 (too short at 0.0 mins)\n",
      " - Segment: 89866183_0001 (too short at 0.2 mins)\n",
      " - Segment: 89866183_0002 (too short at 0.1 mins)\n",
      " - Segment: 89866183_0003 (too short at 0.0 mins)\n",
      " - Segment: 89866183_0004 (too short at 3.0 mins)\n",
      " - Segment: 89866183_0005 (too short at 0.0 mins)\n",
      " - Segment: 89866183_0006 (too short at 0.1 mins)\n",
      " - Segment: 89866183_0007 (too short at 0.0 mins)\n",
      " - Segment: 89866183_0008 (too short at 0.1 mins)\n",
      " - Segment: 89866183_0009 (too short at 0.2 mins)\n",
      " - Segment: 89866183_0010 (too short at 0.1 mins)\n",
      " - Segment: 89866183_0011 (too short at 0.0 mins)\n",
      " - Segment: 89866183_0012 (too short at 0.0 mins)\n",
      " - Segment: 89866183_0013 (too short at 0.0 mins)\n",
      " - Segment: 89866183_0014 (met requirements)\n",
      "Record: waves/p153/p15312343/89068160/89068160 (reading data)\n",
      " - Segment: 89068160_0000 (too short at 0.0 mins)\n",
      " - Segment: 89068160_0001 (too short at 1.3 mins)\n",
      " - Segment: 89068160_0002 (met requirements)\n",
      "Record: waves/p153/p15315368/83076714/83076714 (reading data)\n",
      " - Segment: 83076714_0000 (too short at 0.0 mins)\n",
      " - Segment: 83076714_0001 (met requirements)\n",
      "Record: waves/p153/p15342703/86380383/86380383 (reading data)\n",
      " - Segment: 86380383_0000 (too short at 0.0 mins)\n",
      " - Segment: 86380383_0001 (met requirements)\n",
      "Record: waves/p154/p15450741/80222656/80222656 (reading data)\n",
      "   (missing signals)\n",
      "Record: waves/p154/p15461634/89565005/89565005 (reading data)\n",
      " - Segment: 89565005_0000 (too short at 0.0 mins)\n",
      " - Segment: 89565005_0001 (too short at 0.3 mins)\n",
      " - Segment: 89565005_0002 (met requirements)\n",
      "Record: waves/p154/p15465960/87710197/87710197 (reading data)\n",
      " - Segment: 87710197_0000 (too short at 0.0 mins)\n",
      " - Segment: 87710197_0001 (too short at 3.5 mins)\n",
      " - Segment: 87710197_0002 (met requirements)\n",
      "Record: waves/p154/p15497782/80353107/80353107 (reading data)\n",
      "   (missing signals)\n",
      "Record: waves/p155/p15524470/80713046/80713046 (reading data)\n",
      " - Segment: 80713046_0000 (too short at 0.0 mins)\n",
      " - Segment: 80713046_0001 (too short at 1.4 mins)\n",
      " - Segment: 80713046_0002 (met requirements)\n",
      "Record: waves/p155/p15552902/85078610/85078610 (reading data)\n",
      " - Segment: 85078610_0000 (too short at 0.0 mins)\n",
      " - Segment: 85078610_0001 (too short at 0.1 mins)\n",
      " - Segment: 85078610_0002 (too short at 0.1 mins)\n",
      " - Segment: 85078610_0003 (too short at 0.0 mins)\n",
      " - Segment: 85078610_0004 (too short at 2.1 mins)\n",
      " - Segment: 85078610_0005 (too short at 0.0 mins)\n",
      " - Segment: 85078610_0006 (too short at 0.0 mins)\n",
      " - Segment: 85078610_0007 (too short at 1.2 mins)\n",
      " - Segment: 85078610_0008 (met requirements)\n",
      "Record: waves/p156/p15649186/87702634/87702634 (reading data)\n",
      " - Segment: 87702634_0000 (too short at 0.0 mins)\n",
      " - Segment: 87702634_0001 (too short at 0.1 mins)\n",
      " - Segment: 87702634_0002 (too short at 0.1 mins)\n",
      " - Segment: 87702634_0003 (too short at 0.9 mins)\n",
      " - Segment: 87702634_0004 (too short at 0.1 mins)\n",
      " - Segment: 87702634_0005 (too short at 8.6 mins)\n",
      " - Segment: 87702634_0006 (too short at 0.1 mins)\n",
      " - Segment: 87702634_0007 (met requirements)\n",
      "Record: waves/p156/p15651262/87121214/87121214 (reading data)\n",
      " - Segment: 87121214_0000 (too short at 0.0 mins)\n",
      " - Segment: 87121214_0001 (too short at 0.2 mins)\n",
      " - Segment: 87121214_0002 (too short at 0.0 mins)\n",
      " - Segment: 87121214_0003 (too short at 0.0 mins)\n",
      " - Segment: 87121214_0004 (too short at 3.3 mins)\n",
      " - Segment: 87121214_0005 (too short at 0.1 mins)\n",
      " - Segment: 87121214_0006 (too short at 0.2 mins)\n",
      " - Segment: 87121214_0007 (too short at 0.0 mins)\n",
      " - Segment: 87121214_0008 (too short at 0.5 mins)\n",
      " - Segment: 87121214_0009 (too short at 0.0 mins)\n",
      " - Segment: 87121214_0010 (too short at 0.0 mins)\n",
      " - Segment: 87121214_0011 (met requirements)\n",
      "Record: waves/p156/p15685201/83226324/83226324 (reading data)\n",
      " - Segment: 83226324_0000 (too short at 0.0 mins)\n",
      " - Segment: 83226324_0001 (too short at 1.3 mins)\n",
      " - Segment: 83226324_0002 (too short at 0.1 mins)\n",
      " - Segment: 83226324_0003 (too short at 0.1 mins)\n",
      " - Segment: 83226324_0004 (too short at 0.1 mins)\n",
      " - Segment: 83226324_0005 (too short at 1.3 mins)\n",
      " - Segment: 83226324_0006 (too short at 0.0 mins)\n",
      " - Segment: 83226324_0007 (too short at 0.1 mins)\n",
      " - Segment: 83226324_0008 (met requirements)\n",
      "Record: waves/p157/p15738617/84323120/84323120 (reading data)\n",
      " - Segment: 84323120_0000 (too short at 0.0 mins)\n",
      " - Segment: 84323120_0001 (met requirements)\n",
      "Record: waves/p158/p15855446/80620046/80620046 (reading data)\n",
      " - Segment: 80620046_0000 (too short at 0.0 mins)\n",
      " - Segment: 80620046_0001 (too short at 1.8 mins)\n",
      " - Segment: 80620046_0002 (too short at 0.5 mins)\n",
      " - Segment: 80620046_0003 (too short at 0.1 mins)\n",
      " - Segment: 80620046_0004 (too short at 0.0 mins)\n",
      " - Segment: 80620046_0005 (too short at 1.4 mins)\n",
      " - Segment: 80620046_0006 (too short at 0.0 mins)\n",
      " - Segment: 80620046_0007 (too short at 0.1 mins)\n",
      " - Segment: 80620046_0008 (too short at 4.4 mins)\n",
      " - Segment: 80620046_0009 (met requirements)\n",
      "Record: waves/p158/p15857793/84686667/84686667 (reading data)\n",
      " - Segment: 84686667_0000 (too short at 0.0 mins)\n",
      " - Segment: 84686667_0001 (too short at 1.5 mins)\n",
      " - Segment: 84686667_0002 (met requirements)\n",
      "Record: waves/p158/p15858229/85931717/85931717 (reading data)\n",
      " - Segment: 85931717_0000 (too short at 0.0 mins)\n",
      " - Segment: 85931717_0001 (too short at 0.1 mins)\n",
      " - Segment: 85931717_0002 (too short at 0.1 mins)\n",
      " - Segment: 85931717_0003 (too short at 0.1 mins)\n",
      " - Segment: 85931717_0004 (long enough, but missing signal(s))\n",
      " - Segment: 85931717_0005 (too short at 0.0 mins)\n",
      " - Segment: 85931717_0006 (too short at 0.1 mins)\n",
      " - Segment: 85931717_0007 (too short at 0.9 mins)\n",
      " - Segment: 85931717_0008 (too short at 0.1 mins)\n",
      " - Segment: 85931717_0009 (too short at 0.0 mins)\n",
      " - Segment: 85931717_0010 (long enough, but missing signal(s))\n",
      " - Segment: 85931717_0011 (too short at 0.0 mins)\n",
      " - Segment: 85931717_0012 (too short at 0.1 mins)\n",
      " - Segment: 85931717_0013 (too short at 2.6 mins)\n",
      " - Segment: 85931717_0014 (too short at 0.1 mins)\n",
      " - Segment: 85931717_0015 (too short at 0.0 mins)\n",
      " - Segment: 85931717_0016 (long enough, but missing signal(s))\n",
      " - Segment: 85931717_0017 (too short at 0.1 mins)\n",
      " - Segment: 85931717_0018 (too short at 0.0 mins)\n",
      " - Segment: 85931717_0019 (too short at 3.9 mins)\n",
      "Record: waves/p158/p15859796/87162659/87162659 (reading data)\n",
      "   (missing signals)\n",
      "Record: waves/p158/p15865327/84802706/84802706 (reading data)\n",
      " - Segment: 84802706_0000 (too short at 0.0 mins)\n",
      " - Segment: 84802706_0001 (too short at 0.0 mins)\n",
      " - Segment: 84802706_0002 (met requirements)\n",
      "Record: waves/p158/p15896656/81811182/81811182 (reading data)\n",
      " - Segment: 81811182_0000 (too short at 0.0 mins)\n",
      " - Segment: 81811182_0001 (too short at 0.1 mins)\n",
      " - Segment: 81811182_0002 (too short at 0.0 mins)\n",
      " - Segment: 81811182_0003 (too short at 0.1 mins)\n",
      " - Segment: 81811182_0004 (met requirements)\n",
      "Record: waves/p159/p15920699/84421559/84421559 (reading data)\n",
      " - Segment: 84421559_0000 (too short at 0.0 mins)\n",
      " - Segment: 84421559_0001 (too short at 5.3 mins)\n",
      " - Segment: 84421559_0002 (too short at 0.1 mins)\n",
      " - Segment: 84421559_0003 (too short at 0.0 mins)\n",
      " - Segment: 84421559_0004 (too short at 0.1 mins)\n",
      " - Segment: 84421559_0005 (met requirements)\n",
      "Record: waves/p160/p16034243/88221516/88221516 (reading data)\n",
      " - Segment: 88221516_0000 (too short at 0.0 mins)\n",
      " - Segment: 88221516_0001 (too short at 3.0 mins)\n",
      " - Segment: 88221516_0002 (too short at 0.0 mins)\n",
      " - Segment: 88221516_0003 (too short at 0.1 mins)\n",
      " - Segment: 88221516_0004 (too short at 4.0 mins)\n",
      " - Segment: 88221516_0005 (too short at 0.3 mins)\n",
      " - Segment: 88221516_0006 (too short at 5.2 mins)\n",
      " - Segment: 88221516_0007 (met requirements)\n",
      "Record: waves/p160/p16074364/84765423/84765423 (reading data)\n",
      " - Segment: 84765423_0000 (too short at 0.0 mins)\n",
      " - Segment: 84765423_0001 (met requirements)\n",
      "Record: waves/p160/p16089661/87257193/87257193 (reading data)\n",
      " - Segment: 87257193_0000 (too short at 0.0 mins)\n",
      " - Segment: 87257193_0001 (met requirements)\n",
      "Record: waves/p160/p16096029/87730914/87730914 (reading data)\n",
      " - Segment: 87730914_0000 (too short at 0.0 mins)\n",
      " - Segment: 87730914_0001 (too short at 1.5 mins)\n",
      " - Segment: 87730914_0002 (too short at 0.2 mins)\n",
      " - Segment: 87730914_0003 (too short at 0.0 mins)\n",
      " - Segment: 87730914_0004 (too short at 0.7 mins)\n",
      " - Segment: 87730914_0005 (too short at 0.1 mins)\n",
      " - Segment: 87730914_0006 (too short at 0.0 mins)\n",
      " - Segment: 87730914_0007 (too short at 3.6 mins)\n",
      " - Segment: 87730914_0008 (met requirements)\n",
      "Record: waves/p162/p16215869/89184684/89184684 (reading data)\n",
      "   (missing signals)\n",
      "Record: waves/p162/p16224237/84746493/84746493 (reading data)\n",
      " - Segment: 84746493_0000 (too short at 0.0 mins)\n",
      " - Segment: 84746493_0001 (met requirements)\n",
      "Record: waves/p163/p16331109/85937857/85937857 (reading data)\n",
      " - Segment: 85937857_0000 (too short at 0.0 mins)\n",
      " - Segment: 85937857_0001 (too short at 0.3 mins)\n",
      " - Segment: 85937857_0002 (too short at 0.3 mins)\n",
      " - Segment: 85937857_0003 (too short at 0.1 mins)\n",
      " - Segment: 85937857_0004 (too short at 0.2 mins)\n",
      " - Segment: 85937857_0005 (too short at 0.0 mins)\n",
      " - Segment: 85937857_0006 (too short at 0.5 mins)\n",
      " - Segment: 85937857_0007 (too short at 0.3 mins)\n",
      " - Segment: 85937857_0008 (too short at 0.1 mins)\n",
      " - Segment: 85937857_0009 (too short at 0.0 mins)\n",
      " - Segment: 85937857_0010 (met requirements)\n",
      "Record: waves/p163/p16362820/85250800/85250800 (reading data)\n",
      "   (missing signals)\n",
      "Record: waves/p164/p16442963/89328952/89328952 (reading data)\n",
      " - Segment: 89328952_0000 (too short at 0.0 mins)\n",
      " - Segment: 89328952_0001 (met requirements)\n",
      "Record: waves/p164/p16450343/87509018/87509018 (reading data)\n",
      " - Segment: 87509018_0000 (too short at 0.0 mins)\n",
      " - Segment: 87509018_0001 (too short at 1.4 mins)\n",
      " - Segment: 87509018_0002 (too short at 0.2 mins)\n"
     ]
    },
    {
     "name": "stdout",
     "output_type": "stream",
     "text": [
      " - Segment: 87509018_0003 (too short at 1.4 mins)\n",
      " - Segment: 87509018_0004 (too short at 0.6 mins)\n",
      " - Segment: 87509018_0005 (too short at 5.0 mins)\n",
      " - Segment: 87509018_0006 (too short at 0.4 mins)\n",
      " - Segment: 87509018_0007 (met requirements)\n",
      "Record: waves/p165/p16547220/81902403/81902403 (reading data)\n",
      " - Segment: 81902403_0000 (too short at 0.0 mins)\n",
      " - Segment: 81902403_0001 (too short at 0.3 mins)\n",
      " - Segment: 81902403_0002 (met requirements)\n",
      "Record: waves/p165/p16566444/80057524/80057524 (reading data)\n",
      " - Segment: 80057524_0000 (too short at 0.0 mins)\n",
      " - Segment: 80057524_0001 (met requirements)\n",
      "Record: waves/p165/p16587972/86803944/86803944 (reading data)\n",
      "   (missing signals)\n",
      "Record: waves/p166/p16601928/88159741/88159741 (reading data)\n",
      " - Segment: 88159741_0000 (too short at 0.0 mins)\n",
      " - Segment: 88159741_0001 (met requirements)\n",
      "Record: waves/p166/p16644640/84209926/84209926 (reading data)\n",
      " - Segment: 84209926_0000 (too short at 0.0 mins)\n",
      " - Segment: 84209926_0001 (too short at 0.5 mins)\n",
      " - Segment: 84209926_0002 (too short at 0.2 mins)\n",
      " - Segment: 84209926_0003 (too short at 0.0 mins)\n",
      " - Segment: 84209926_0004 (too short at 0.1 mins)\n",
      " - Segment: 84209926_0005 (too short at 0.1 mins)\n",
      " - Segment: 84209926_0006 (too short at 0.0 mins)\n",
      " - Segment: 84209926_0007 (too short at 0.9 mins)\n",
      " - Segment: 84209926_0008 (met requirements)\n",
      "Record: waves/p166/p16645935/86666275/86666275 (reading data)\n",
      " - Segment: 86666275_0000 (too short at 0.0 mins)\n",
      " - Segment: 86666275_0001 (met requirements)\n",
      "Record: waves/p166/p16662288/83394240/83394240 (reading data)\n",
      " - Segment: 83394240_0000 (too short at 0.0 mins)\n",
      " - Segment: 83394240_0001 (met requirements)\n",
      "Record: waves/p166/p16683551/83349747/83349747 (reading data)\n",
      " - Segment: 83349747_0000 (too short at 0.0 mins)\n",
      " - Segment: 83349747_0001 (too short at 0.9 mins)\n",
      " - Segment: 83349747_0002 (too short at 1.0 mins)\n",
      " - Segment: 83349747_0003 (too short at 0.9 mins)\n",
      " - Segment: 83349747_0004 (too short at 0.0 mins)\n",
      " - Segment: 83349747_0005 (too short at 0.1 mins)\n",
      " - Segment: 83349747_0006 (met requirements)\n",
      "Record: waves/p167/p16709726/83959636/83959636 (reading data)\n",
      " - Segment: 83959636_0000 (too short at 0.0 mins)\n",
      " - Segment: 83959636_0001 (too short at 0.0 mins)\n",
      " - Segment: 83959636_0002 (too short at 0.1 mins)\n",
      " - Segment: 83959636_0003 (too short at 6.3 mins)\n",
      " - Segment: 83959636_0004 (too short at 1.1 mins)\n",
      " - Segment: 83959636_0005 (too short at 0.9 mins)\n",
      " - Segment: 83959636_0006 (too short at 3.1 mins)\n",
      " - Segment: 83959636_0007 (too short at 1.7 mins)\n",
      " - Segment: 83959636_0008 (too short at 0.1 mins)\n",
      " - Segment: 83959636_0009 (too short at 0.0 mins)\n",
      " - Segment: 83959636_0010 (met requirements)\n",
      "Record: waves/p167/p16715341/89989722/89989722 (reading data)\n",
      " - Segment: 89989722_0000 (too short at 0.0 mins)\n",
      " - Segment: 89989722_0001 (too short at 0.1 mins)\n",
      " - Segment: 89989722_0002 (too short at 2.3 mins)\n",
      " - Segment: 89989722_0003 (too short at 2.0 mins)\n",
      " - Segment: 89989722_0004 (too short at 9.6 mins)\n",
      " - Segment: 89989722_0005 (too short at 0.9 mins)\n",
      " - Segment: 89989722_0006 (too short at 2.9 mins)\n",
      " - Segment: 89989722_0007 (too short at 0.3 mins)\n",
      " - Segment: 89989722_0008 (too short at 0.5 mins)\n",
      " - Segment: 89989722_0009 (too short at 6.1 mins)\n",
      " - Segment: 89989722_0010 (too short at 0.3 mins)\n",
      " - Segment: 89989722_0011 (too short at 0.6 mins)\n",
      " - Segment: 89989722_0012 (too short at 0.4 mins)\n",
      " - Segment: 89989722_0013 (too short at 4.2 mins)\n",
      " - Segment: 89989722_0014 (too short at 1.2 mins)\n",
      " - Segment: 89989722_0015 (too short at 3.0 mins)\n",
      " - Segment: 89989722_0016 (met requirements)\n",
      "Record: waves/p168/p16818396/89225487/89225487 (reading data)\n",
      " - Segment: 89225487_0000 (too short at 0.0 mins)\n",
      " - Segment: 89225487_0001 (too short at 0.1 mins)\n",
      " - Segment: 89225487_0002 (too short at 7.4 mins)\n",
      " - Segment: 89225487_0003 (too short at 0.1 mins)\n",
      " - Segment: 89225487_0004 (too short at 0.1 mins)\n",
      " - Segment: 89225487_0005 (too short at 0.4 mins)\n",
      " - Segment: 89225487_0006 (too short at 0.1 mins)\n",
      " - Segment: 89225487_0007 (met requirements)\n",
      "Record: waves/p168/p16820602/82493254/82493254 (reading data)\n",
      " - Segment: 82493254_0000 (too short at 0.0 mins)\n",
      " - Segment: 82493254_0001 (too short at 0.5 mins)\n",
      " - Segment: 82493254_0002 (too short at 0.1 mins)\n",
      " - Segment: 82493254_0003 (too short at 0.1 mins)\n",
      " - Segment: 82493254_0004 (too short at 0.0 mins)\n",
      " - Segment: 82493254_0005 (met requirements)\n",
      "Record: waves/p168/p16846280/83877081/83877081 (reading data)\n",
      " - Segment: 83877081_0000 (too short at 0.0 mins)\n",
      " - Segment: 83877081_0001 (too short at 1.1 mins)\n",
      " - Segment: 83877081_0002 (too short at 0.1 mins)\n",
      " - Segment: 83877081_0003 (too short at 0.0 mins)\n",
      " - Segment: 83877081_0004 (too short at 0.8 mins)\n",
      " - Segment: 83877081_0005 (too short at 0.1 mins)\n",
      " - Segment: 83877081_0006 (too short at 0.0 mins)\n",
      " - Segment: 83877081_0007 (too short at 2.6 mins)\n",
      " - Segment: 83877081_0008 (too short at 0.4 mins)\n",
      " - Segment: 83877081_0009 (too short at 0.4 mins)\n",
      " - Segment: 83877081_0010 (too short at 0.3 mins)\n",
      " - Segment: 83877081_0011 (met requirements)\n",
      "Record: waves/p168/p16848565/84917468/84917468 (reading data)\n",
      " - Segment: 84917468_0000 (too short at 0.0 mins)\n",
      " - Segment: 84917468_0001 (too short at 3.0 mins)\n",
      " - Segment: 84917468_0002 (met requirements)\n",
      "Record: waves/p169/p16949991/88967754/88967754 (reading data)\n",
      " - Segment: 88967754_0000 (too short at 0.0 mins)\n",
      " - Segment: 88967754_0001 (met requirements)\n",
      "Record: waves/p169/p16955095/82284982/82284982 (reading data)\n",
      " - Segment: 82284982_0000 (too short at 0.0 mins)\n",
      " - Segment: 82284982_0001 (too short at 10.0 mins)\n",
      " - Segment: 82284982_0002 (too short at 0.1 mins)\n",
      "Record: waves/p169/p16971339/87311151/87311151 (reading data)\n",
      " - Segment: 87311151_0000 (too short at 0.0 mins)\n",
      " - Segment: 87311151_0001 (too short at 0.1 mins)\n",
      " - Segment: 87311151_0002 (too short at 5.1 mins)\n",
      " - Segment: 87311151_0003 (too short at 0.1 mins)\n",
      " - Segment: 87311151_0004 (too short at 0.1 mins)\n",
      " - Segment: 87311151_0005 (too short at 0.3 mins)\n",
      " - Segment: 87311151_0006 (too short at 0.1 mins)\n",
      " - Segment: 87311151_0007 (too short at 0.0 mins)\n",
      " - Segment: 87311151_0008 (met requirements)\n",
      "Record: waves/p170/p17032851/84391267/84391267 (reading data)\n",
      " - Segment: 84391267_0000 (too short at 0.0 mins)\n",
      " - Segment: 84391267_0001 (met requirements)\n",
      "Record: waves/p171/p17107892/83439223/83439223 (reading data)\n",
      " - Segment: 83439223_0000 (too short at 0.0 mins)\n",
      " - Segment: 83439223_0001 (met requirements)\n",
      "Record: waves/p172/p17229504/80889556/80889556 (reading data)\n",
      " - Segment: 80889556_0000 (too short at 0.0 mins)\n",
      " - Segment: 80889556_0001 (too short at 0.6 mins)\n",
      " - Segment: 80889556_0002 (met requirements)\n",
      "Record: waves/p173/p17301721/85250558/85250558 (reading data)\n",
      " - Segment: 85250558_0000 (too short at 0.0 mins)\n",
      " - Segment: 85250558_0001 (too short at 6.1 mins)\n",
      " - Segment: 85250558_0002 (too short at 0.0 mins)\n",
      " - Segment: 85250558_0003 (too short at 0.1 mins)\n",
      " - Segment: 85250558_0004 (too short at 8.1 mins)\n",
      " - Segment: 85250558_0005 (too short at 0.1 mins)\n",
      " - Segment: 85250558_0006 (too short at 3.0 mins)\n",
      " - Segment: 85250558_0007 (too short at 4.5 mins)\n",
      " - Segment: 85250558_0008 (too short at 0.1 mins)\n",
      " - Segment: 85250558_0009 (too short at 0.4 mins)\n",
      " - Segment: 85250558_0010 (too short at 0.2 mins)\n",
      " - Segment: 85250558_0011 (met requirements)\n",
      "Record: waves/p173/p17325001/84567505/84567505 (reading data)\n",
      " - Segment: 84567505_0000 (too short at 0.0 mins)\n",
      " - Segment: 84567505_0001 (too short at 0.2 mins)\n",
      " - Segment: 84567505_0002 (too short at 0.1 mins)\n",
      " - Segment: 84567505_0003 (too short at 0.0 mins)\n",
      " - Segment: 84567505_0004 (too short at 0.4 mins)\n",
      " - Segment: 84567505_0005 (met requirements)\n",
      "Record: waves/p174/p17413562/88976763/88976763 (reading data)\n",
      " - Segment: 88976763_0000 (too short at 0.0 mins)\n",
      " - Segment: 88976763_0001 (met requirements)\n",
      "Record: waves/p174/p17459141/80111237/80111237 (reading data)\n",
      " - Segment: 80111237_0000 (too short at 0.0 mins)\n",
      " - Segment: 80111237_0001 (too short at 0.1 mins)\n",
      " - Segment: 80111237_0002 (too short at 0.1 mins)\n",
      " - Segment: 80111237_0003 (too short at 0.0 mins)\n",
      " - Segment: 80111237_0004 (met requirements)\n",
      "Record: waves/p174/p17488284/84486962/84486962 (reading data)\n"
     ]
    },
    {
     "name": "stdout",
     "output_type": "stream",
     "text": [
      " - Segment: 84486962_0000 (too short at 0.0 mins)\n",
      " - Segment: 84486962_0001 (too short at 3.6 mins)\n",
      " - Segment: 84486962_0002 (too short at 0.5 mins)\n",
      " - Segment: 84486962_0003 (too short at 0.2 mins)\n",
      " - Segment: 84486962_0004 (too short at 0.0 mins)\n",
      " - Segment: 84486962_0005 (too short at 0.1 mins)\n",
      " - Segment: 84486962_0006 (too short at 0.4 mins)\n",
      " - Segment: 84486962_0007 (too short at 0.3 mins)\n",
      " - Segment: 84486962_0008 (too short at 0.5 mins)\n",
      " - Segment: 84486962_0009 (met requirements)\n",
      "Record: waves/p174/p17490822/85814172/85814172 (reading data)\n",
      " - Segment: 85814172_0000 (too short at 0.0 mins)\n",
      " - Segment: 85814172_0001 (too short at 2.1 mins)\n",
      " - Segment: 85814172_0002 (too short at 0.4 mins)\n",
      " - Segment: 85814172_0003 (met requirements)\n",
      "Record: waves/p175/p17549883/88582885/88582885 (reading data)\n",
      " - Segment: 88582885_0000 (too short at 0.0 mins)\n",
      " - Segment: 88582885_0001 (met requirements)\n",
      "Record: waves/p175/p17578102/83863589/83863589 (reading data)\n",
      " - Segment: 83863589_0000 (too short at 0.0 mins)\n",
      " - Segment: 83863589_0001 (too short at 0.1 mins)\n",
      " - Segment: 83863589_0002 (too short at 0.1 mins)\n",
      " - Segment: 83863589_0003 (long enough, but missing signal(s))\n",
      " - Segment: 83863589_0004 (too short at 0.0 mins)\n",
      " - Segment: 83863589_0005 (too short at 0.0 mins)\n",
      " - Segment: 83863589_0006 (too short at 4.9 mins)\n",
      " - Segment: 83863589_0007 (too short at 0.3 mins)\n",
      " - Segment: 83863589_0008 (too short at 0.0 mins)\n",
      " - Segment: 83863589_0009 (too short at 0.0 mins)\n",
      " - Segment: 83863589_0010 (too short at 0.1 mins)\n",
      " - Segment: 83863589_0011 (too short at 0.1 mins)\n",
      " - Segment: 83863589_0012 (too short at 0.0 mins)\n",
      " - Segment: 83863589_0013 (too short at 1.1 mins)\n",
      " - Segment: 83863589_0014 (too short at 0.1 mins)\n",
      " - Segment: 83863589_0015 (too short at 0.1 mins)\n",
      " - Segment: 83863589_0016 (long enough, but missing signal(s))\n",
      " - Segment: 83863589_0017 (too short at 0.1 mins)\n",
      " - Segment: 83863589_0018 (too short at 0.0 mins)\n",
      " - Segment: 83863589_0019 (too short at 0.0 mins)\n",
      " - Segment: 83863589_0020 (too short at 0.1 mins)\n",
      " - Segment: 83863589_0021 (long enough, but missing signal(s))\n",
      " - Segment: 83863589_0022 (too short at 0.0 mins)\n",
      " - Segment: 83863589_0023 (too short at 0.1 mins)\n",
      " - Segment: 83863589_0024 (too short at 3.2 mins)\n",
      " - Segment: 83863589_0025 (too short at 0.2 mins)\n",
      " - Segment: 83863589_0026 (too short at 0.1 mins)\n",
      " - Segment: 83863589_0027 (too short at 2.2 mins)\n",
      " - Segment: 83863589_0028 (too short at 0.0 mins)\n",
      " - Segment: 83863589_0029 (too short at 0.0 mins)\n",
      " - Segment: 83863589_0030 (too short at 0.7 mins)\n",
      " - Segment: 83863589_0031 (too short at 0.0 mins)\n",
      " - Segment: 83863589_0032 (too short at 0.1 mins)\n",
      " - Segment: 83863589_0033 (long enough, but missing signal(s))\n",
      " - Segment: 83863589_0034 (too short at 0.0 mins)\n",
      " - Segment: 83863589_0035 (too short at 0.1 mins)\n",
      " - Segment: 83863589_0036 (too short at 0.2 mins)\n",
      " - Segment: 83863589_0037 (too short at 0.0 mins)\n",
      " - Segment: 83863589_0038 (too short at 0.1 mins)\n",
      " - Segment: 83863589_0039 (too short at 7.3 mins)\n",
      " - Segment: 83863589_0040 (too short at 0.0 mins)\n",
      " - Segment: 83863589_0041 (too short at 0.0 mins)\n",
      " - Segment: 83863589_0042 (long enough, but missing signal(s))\n",
      " - Segment: 83863589_0043 (too short at 0.1 mins)\n",
      " - Segment: 83863589_0044 (too short at 0.0 mins)\n",
      " - Segment: 83863589_0045 (too short at 0.0 mins)\n",
      " - Segment: 83863589_0046 (too short at 0.1 mins)\n",
      " - Segment: 83863589_0047 (too short at 0.1 mins)\n",
      " - Segment: 83863589_0048 (too short at 0.0 mins)\n",
      " - Segment: 83863589_0049 (too short at 0.1 mins)\n",
      " - Segment: 83863589_0050 (long enough, but missing signal(s))\n",
      " - Segment: 83863589_0051 (too short at 0.1 mins)\n",
      " - Segment: 83863589_0052 (too short at 0.0 mins)\n",
      " - Segment: 83863589_0053 (too short at 0.1 mins)\n",
      " - Segment: 83863589_0054 (long enough, but missing signal(s))\n",
      " - Segment: 83863589_0055 (too short at 0.0 mins)\n",
      " - Segment: 83863589_0056 (too short at 0.0 mins)\n",
      " - Segment: 83863589_0057 (too short at 0.1 mins)\n",
      " - Segment: 83863589_0058 (long enough, but missing signal(s))\n",
      "Record: waves/p177/p17701063/88788921/88788921 (reading data)\n",
      " - Segment: 88788921_0000 (too short at 0.0 mins)\n",
      " - Segment: 88788921_0001 (too short at 2.3 mins)\n",
      " - Segment: 88788921_0002 (too short at 0.2 mins)\n",
      " - Segment: 88788921_0003 (too short at 0.0 mins)\n",
      " - Segment: 88788921_0004 (too short at 0.1 mins)\n",
      " - Segment: 88788921_0005 (met requirements)\n",
      "Record: waves/p177/p17708869/84580526/84580526 (reading data)\n",
      " - Segment: 84580526_0000 (too short at 0.0 mins)\n",
      " - Segment: 84580526_0001 (met requirements)\n",
      "Record: waves/p177/p17738824/88884866/88884866 (reading data)\n",
      " - Segment: 88884866_0000 (too short at 0.0 mins)\n",
      " - Segment: 88884866_0001 (too short at 9.6 mins)\n",
      " - Segment: 88884866_0002 (too short at 0.0 mins)\n",
      " - Segment: 88884866_0003 (too short at 0.1 mins)\n",
      " - Segment: 88884866_0004 (met requirements)\n",
      "Record: waves/p177/p17744715/80497954/80497954 (reading data)\n",
      " - Segment: 80497954_0000 (too short at 0.0 mins)\n",
      " - Segment: 80497954_0001 (too short at 0.5 mins)\n",
      " - Segment: 80497954_0002 (too short at 0.1 mins)\n",
      " - Segment: 80497954_0003 (too short at 0.0 mins)\n",
      " - Segment: 80497954_0004 (too short at 0.5 mins)\n",
      " - Segment: 80497954_0005 (too short at 0.1 mins)\n",
      " - Segment: 80497954_0006 (too short at 0.0 mins)\n",
      " - Segment: 80497954_0007 (too short at 0.3 mins)\n",
      " - Segment: 80497954_0008 (too short at 0.1 mins)\n",
      " - Segment: 80497954_0009 (too short at 0.0 mins)\n",
      " - Segment: 80497954_0010 (too short at 5.5 mins)\n",
      " - Segment: 80497954_0011 (too short at 0.1 mins)\n",
      " - Segment: 80497954_0012 (met requirements)\n",
      "Record: waves/p178/p17802132/86917206/86917206 (reading data)\n",
      " - Segment: 86917206_0000 (too short at 0.0 mins)\n",
      " - Segment: 86917206_0001 (too short at 0.1 mins)\n",
      " - Segment: 86917206_0002 (met requirements)\n",
      "Record: waves/p178/p17818849/84786832/84786832 (reading data)\n",
      " - Segment: 84786832_0000 (too short at 0.0 mins)\n",
      " - Segment: 84786832_0001 (too short at 0.1 mins)\n",
      " - Segment: 84786832_0002 (met requirements)\n",
      "Record: waves/p179/p17957832/80666640/80666640 (reading data)\n",
      " - Segment: 80666640_0000 (too short at 0.0 mins)\n",
      " - Segment: 80666640_0001 (too short at 3.2 mins)\n",
      " - Segment: 80666640_0002 (too short at 0.2 mins)\n",
      " - Segment: 80666640_0003 (too short at 0.0 mins)\n",
      " - Segment: 80666640_0004 (too short at 0.4 mins)\n",
      " - Segment: 80666640_0005 (too short at 0.1 mins)\n",
      " - Segment: 80666640_0006 (too short at 0.0 mins)\n",
      " - Segment: 80666640_0007 (too short at 1.5 mins)\n",
      " - Segment: 80666640_0008 (too short at 1.7 mins)\n",
      " - Segment: 80666640_0009 (too short at 0.1 mins)\n",
      " - Segment: 80666640_0010 (too short at 0.0 mins)\n",
      " - Segment: 80666640_0011 (too short at 0.1 mins)\n",
      " - Segment: 80666640_0012 (too short at 0.1 mins)\n",
      " - Segment: 80666640_0013 (too short at 1.5 mins)\n",
      " - Segment: 80666640_0014 (met requirements)\n",
      "Record: waves/p179/p17973277/83801243/83801243 (reading data)\n",
      " - Segment: 83801243_0000 (too short at 0.0 mins)\n",
      " - Segment: 83801243_0001 (too short at 0.6 mins)\n",
      " - Segment: 83801243_0002 (too short at 0.2 mins)\n",
      " - Segment: 83801243_0003 (too short at 4.0 mins)\n",
      " - Segment: 83801243_0004 (too short at 0.1 mins)\n",
      " - Segment: 83801243_0005 (too short at 0.0 mins)\n",
      " - Segment: 83801243_0006 (too short at 0.9 mins)\n",
      " - Segment: 83801243_0007 (met requirements)\n",
      "Record: waves/p180/p18011649/83973028/83973028 (reading data)\n",
      " - Segment: 83973028_0000 (too short at 0.0 mins)\n",
      " - Segment: 83973028_0001 (met requirements)\n",
      "Record: waves/p180/p18034077/88626898/88626898 (reading data)\n",
      " - Segment: 88626898_0000 (too short at 0.0 mins)\n",
      " - Segment: 88626898_0001 (met requirements)\n",
      "Record: waves/p180/p18080257/84939605/84939605 (reading data)\n",
      " - Segment: 84939605_0000 (too short at 0.0 mins)\n",
      " - Segment: 84939605_0001 (too short at 1.0 mins)\n",
      " - Segment: 84939605_0002 (too short at 0.7 mins)\n",
      " - Segment: 84939605_0003 (too short at 2.1 mins)\n",
      " - Segment: 84939605_0004 (met requirements)\n",
      "Record: waves/p181/p18109577/82141753/82141753 (reading data)\n",
      " - Segment: 82141753_0000 (too short at 0.0 mins)\n",
      " - Segment: 82141753_0001 (too short at 0.7 mins)\n",
      " - Segment: 82141753_0002 (too short at 0.2 mins)\n",
      " - Segment: 82141753_0003 (too short at 0.1 mins)\n",
      " - Segment: 82141753_0004 (too short at 0.2 mins)\n",
      " - Segment: 82141753_0005 (too short at 0.0 mins)\n"
     ]
    },
    {
     "name": "stdout",
     "output_type": "stream",
     "text": [
      " - Segment: 82141753_0006 (too short at 0.0 mins)\n",
      " - Segment: 82141753_0007 (too short at 0.7 mins)\n",
      " - Segment: 82141753_0008 (too short at 3.0 mins)\n",
      " - Segment: 82141753_0009 (too short at 0.1 mins)\n",
      " - Segment: 82141753_0010 (too short at 5.0 mins)\n",
      " - Segment: 82141753_0011 (met requirements)\n",
      "Record: waves/p181/p18111015/86297093/86297093 (reading data)\n",
      " - Segment: 86297093_0000 (too short at 0.0 mins)\n",
      " - Segment: 86297093_0001 (met requirements)\n",
      "Record: waves/p181/p18195790/89743206/89743206 (reading data)\n",
      " - Segment: 89743206_0000 (too short at 0.0 mins)\n",
      " - Segment: 89743206_0001 (too short at 0.1 mins)\n",
      " - Segment: 89743206_0002 (too short at 2.5 mins)\n",
      " - Segment: 89743206_0003 (too short at 0.3 mins)\n",
      " - Segment: 89743206_0004 (too short at 0.8 mins)\n",
      " - Segment: 89743206_0005 (too short at 0.1 mins)\n",
      " - Segment: 89743206_0006 (too short at 0.6 mins)\n",
      " - Segment: 89743206_0007 (met requirements)\n",
      "Record: waves/p183/p18324626/86874920/86874920 (reading data)\n",
      " - Segment: 86874920_0000 (too short at 0.0 mins)\n",
      " - Segment: 86874920_0001 (too short at 0.1 mins)\n",
      " - Segment: 86874920_0002 (too short at 4.0 mins)\n",
      " - Segment: 86874920_0003 (too short at 0.4 mins)\n",
      " - Segment: 86874920_0004 (too short at 1.7 mins)\n",
      " - Segment: 86874920_0005 (too short at 0.1 mins)\n",
      " - Segment: 86874920_0006 (too short at 0.0 mins)\n",
      " - Segment: 86874920_0007 (too short at 0.3 mins)\n",
      " - Segment: 86874920_0008 (too short at 0.1 mins)\n",
      " - Segment: 86874920_0009 (too short at 0.0 mins)\n",
      " - Segment: 86874920_0010 (too short at 0.2 mins)\n",
      " - Segment: 86874920_0011 (too short at 1.2 mins)\n",
      " - Segment: 86874920_0012 (met requirements)\n",
      "Record: waves/p184/p18423403/84261835/84261835 (reading data)\n",
      " - Segment: 84261835_0000 (too short at 0.0 mins)\n",
      " - Segment: 84261835_0001 (too short at 1.7 mins)\n",
      " - Segment: 84261835_0002 (too short at 0.1 mins)\n",
      " - Segment: 84261835_0003 (too short at 0.0 mins)\n",
      " - Segment: 84261835_0004 (too short at 0.1 mins)\n",
      " - Segment: 84261835_0005 (too short at 0.1 mins)\n",
      " - Segment: 84261835_0006 (too short at 0.0 mins)\n",
      " - Segment: 84261835_0007 (too short at 0.3 mins)\n",
      " - Segment: 84261835_0008 (too short at 0.1 mins)\n",
      " - Segment: 84261835_0009 (too short at 0.1 mins)\n",
      " - Segment: 84261835_0010 (too short at 0.0 mins)\n",
      " - Segment: 84261835_0011 (met requirements)\n",
      "Record: waves/p184/p18455165/85888407/85888407 (reading data)\n",
      " - Segment: 85888407_0000 (too short at 0.0 mins)\n",
      " - Segment: 85888407_0001 (met requirements)\n",
      "Record: waves/p184/p18466737/89821554/89821554 (reading data)\n",
      " - Segment: 89821554_0000 (too short at 0.0 mins)\n",
      " - Segment: 89821554_0001 (met requirements)\n",
      "Record: waves/p185/p18573443/85263057/85263057 (reading data)\n",
      " - Segment: 85263057_0000 (too short at 0.0 mins)\n",
      " - Segment: 85263057_0001 (too short at 1.5 mins)\n",
      " - Segment: 85263057_0002 (too short at 0.1 mins)\n",
      " - Segment: 85263057_0003 (too short at 0.0 mins)\n",
      " - Segment: 85263057_0004 (too short at 0.9 mins)\n",
      " - Segment: 85263057_0005 (met requirements)\n",
      "Record: waves/p186/p18667552/81139702/81139702 (reading data)\n",
      " - Segment: 81139702_0000 (too short at 0.0 mins)\n",
      " - Segment: 81139702_0001 (met requirements)\n",
      "Record: waves/p187/p18700695/81937383/81937383 (reading data)\n",
      " - Segment: 81937383_0000 (too short at 0.0 mins)\n",
      " - Segment: 81937383_0001 (met requirements)\n",
      "Record: waves/p187/p18709273/88457020/88457020 (reading data)\n",
      " - Segment: 88457020_0000 (too short at 0.0 mins)\n",
      " - Segment: 88457020_0001 (too short at 0.1 mins)\n",
      " - Segment: 88457020_0002 (too short at 1.5 mins)\n",
      " - Segment: 88457020_0003 (too short at 0.1 mins)\n",
      " - Segment: 88457020_0004 (too short at 0.1 mins)\n",
      " - Segment: 88457020_0005 (too short at 0.1 mins)\n",
      " - Segment: 88457020_0006 (too short at 0.1 mins)\n",
      " - Segment: 88457020_0007 (too short at 0.0 mins)\n",
      " - Segment: 88457020_0008 (met requirements)\n",
      "Record: waves/p187/p18742074/84505262/84505262 (reading data)\n",
      " - Segment: 84505262_0000 (too short at 0.0 mins)\n",
      " - Segment: 84505262_0001 (too short at 0.1 mins)\n",
      " - Segment: 84505262_0002 (too short at 0.1 mins)\n",
      " - Segment: 84505262_0003 (too short at 0.1 mins)\n",
      " - Segment: 84505262_0004 (too short at 0.0 mins)\n",
      " - Segment: 84505262_0005 (too short at 0.1 mins)\n",
      " - Segment: 84505262_0006 (too short at 0.1 mins)\n",
      " - Segment: 84505262_0007 (too short at 0.0 mins)\n",
      " - Segment: 84505262_0008 (too short at 0.1 mins)\n",
      " - Segment: 84505262_0009 (too short at 1.4 mins)\n",
      " - Segment: 84505262_0010 (met requirements)\n",
      "Record: waves/p187/p18768904/82650643/82650643 (reading data)\n",
      " - Segment: 82650643_0000 (too short at 0.0 mins)\n",
      " - Segment: 82650643_0001 (too short at 2.0 mins)\n",
      " - Segment: 82650643_0002 (too short at 0.1 mins)\n",
      " - Segment: 82650643_0003 (too short at 0.1 mins)\n",
      " - Segment: 82650643_0004 (too short at 0.4 mins)\n",
      " - Segment: 82650643_0005 (too short at 0.0 mins)\n",
      " - Segment: 82650643_0006 (too short at 0.1 mins)\n",
      " - Segment: 82650643_0007 (met requirements)\n",
      "Record: waves/p187/p18790258/85940419/85940419 (reading data)\n",
      " - Segment: 85940419_0000 (too short at 0.0 mins)\n",
      " - Segment: 85940419_0001 (too short at 0.7 mins)\n",
      " - Segment: 85940419_0002 (too short at 0.2 mins)\n",
      " - Segment: 85940419_0003 (too short at 0.3 mins)\n",
      " - Segment: 85940419_0004 (met requirements)\n",
      "Record: waves/p187/p18790977/87554500/87554500 (reading data)\n",
      " - Segment: 87554500_0000 (too short at 0.0 mins)\n",
      " - Segment: 87554500_0001 (long enough, but missing signal(s))\n",
      " - Segment: 87554500_0002 (too short at 6.1 mins)\n",
      " - Segment: 87554500_0003 (long enough, but missing signal(s))\n",
      " - Segment: 87554500_0004 (long enough, but missing signal(s))\n",
      " - Segment: 87554500_0005 (long enough, but missing signal(s))\n",
      " - Segment: 87554500_0006 (too short at 0.2 mins)\n",
      " - Segment: 87554500_0007 (too short at 0.4 mins)\n",
      " - Segment: 87554500_0008 (too short at 0.1 mins)\n",
      " - Segment: 87554500_0009 (long enough, but missing signal(s))\n",
      " - Segment: 87554500_0010 (too short at 0.3 mins)\n",
      " - Segment: 87554500_0011 (long enough, but missing signal(s))\n",
      " - Segment: 87554500_0012 (too short at 3.2 mins)\n",
      " - Segment: 87554500_0013 (too short at 0.1 mins)\n",
      " - Segment: 87554500_0014 (too short at 0.9 mins)\n",
      " - Segment: 87554500_0015 (too short at 0.3 mins)\n",
      " - Segment: 87554500_0016 (too short at 0.1 mins)\n",
      " - Segment: 87554500_0017 (long enough, but missing signal(s))\n",
      " - Segment: 87554500_0018 (long enough, but missing signal(s))\n",
      " - Segment: 87554500_0019 (long enough, but missing signal(s))\n",
      " - Segment: 87554500_0020 (too short at 0.0 mins)\n",
      " - Segment: 87554500_0021 (too short at 0.1 mins)\n",
      " - Segment: 87554500_0022 (too short at 4.3 mins)\n",
      " - Segment: 87554500_0023 (too short at 0.2 mins)\n",
      " - Segment: 87554500_0024 (too short at 0.1 mins)\n",
      " - Segment: 87554500_0025 (long enough, but missing signal(s))\n",
      " - Segment: 87554500_0026 (too short at 0.1 mins)\n",
      " - Segment: 87554500_0027 (too short at 0.0 mins)\n",
      " - Segment: 87554500_0028 (too short at 1.5 mins)\n",
      " - Segment: 87554500_0029 (too short at 0.1 mins)\n",
      " - Segment: 87554500_0030 (too short at 0.0 mins)\n",
      " - Segment: 87554500_0031 (too short at 0.0 mins)\n",
      " - Segment: 87554500_0032 (too short at 0.1 mins)\n",
      " - Segment: 87554500_0033 (too short at 5.0 mins)\n",
      " - Segment: 87554500_0034 (too short at 0.1 mins)\n",
      " - Segment: 87554500_0035 (too short at 0.0 mins)\n",
      " - Segment: 87554500_0036 (long enough, but missing signal(s))\n",
      " - Segment: 87554500_0037 (too short at 0.0 mins)\n",
      " - Segment: 87554500_0038 (too short at 0.0 mins)\n",
      " - Segment: 87554500_0039 (too short at 0.0 mins)\n",
      " - Segment: 87554500_0040 (long enough, but missing signal(s))\n",
      " - Segment: 87554500_0041 (too short at 0.1 mins)\n",
      " - Segment: 87554500_0042 (too short at 0.0 mins)\n",
      " - Segment: 87554500_0043 (too short at 0.3 mins)\n",
      " - Segment: 87554500_0044 (too short at 0.2 mins)\n",
      " - Segment: 87554500_0045 (too short at 0.0 mins)\n",
      " - Segment: 87554500_0046 (long enough, but missing signal(s))\n",
      " - Segment: 87554500_0047 (too short at 0.1 mins)\n",
      " - Segment: 87554500_0048 (too short at 0.1 mins)\n",
      " - Segment: 87554500_0049 (too short at 0.0 mins)\n",
      " - Segment: 87554500_0050 (too short at 0.2 mins)\n",
      " - Segment: 87554500_0051 (too short at 0.1 mins)\n",
      " - Segment: 87554500_0052 (long enough, but missing signal(s))\n",
      " - Segment: 87554500_0053 (long enough, but missing signal(s))\n",
      "Record: waves/p188/p18824975/86288257/86288257 (reading data)\n",
      " - Segment: 86288257_0000 (too short at 0.0 mins)\n"
     ]
    },
    {
     "name": "stdout",
     "output_type": "stream",
     "text": [
      " - Segment: 86288257_0001 (met requirements)\n",
      "Record: waves/p188/p18881392/85145725/85145725 (reading data)\n",
      "   (missing signals)\n",
      "Record: waves/p189/p18981843/86164656/86164656 (reading data)\n",
      " - Segment: 86164656_0000 (too short at 0.0 mins)\n",
      " - Segment: 86164656_0001 (long enough, but missing signal(s))\n",
      " - Segment: 86164656_0002 (too short at 0.1 mins)\n",
      " - Segment: 86164656_0003 (too short at 0.0 mins)\n",
      " - Segment: 86164656_0004 (too short at 0.1 mins)\n",
      " - Segment: 86164656_0005 (too short at 9.1 mins)\n",
      " - Segment: 86164656_0006 (too short at 0.0 mins)\n",
      " - Segment: 86164656_0007 (too short at 0.1 mins)\n",
      " - Segment: 86164656_0008 (too short at 0.3 mins)\n",
      " - Segment: 86164656_0009 (too short at 0.2 mins)\n",
      " - Segment: 86164656_0010 (too short at 0.0 mins)\n",
      " - Segment: 86164656_0011 (too short at 0.1 mins)\n",
      " - Segment: 86164656_0012 (too short at 0.0 mins)\n",
      " - Segment: 86164656_0013 (too short at 1.8 mins)\n",
      " - Segment: 86164656_0014 (too short at 0.1 mins)\n",
      " - Segment: 86164656_0015 (too short at 0.0 mins)\n",
      " - Segment: 86164656_0016 (long enough, but missing signal(s))\n",
      " - Segment: 86164656_0017 (too short at 0.0 mins)\n",
      " - Segment: 86164656_0018 (too short at 0.0 mins)\n",
      " - Segment: 86164656_0019 (too short at 1.2 mins)\n",
      " - Segment: 86164656_0020 (too short at 0.2 mins)\n",
      " - Segment: 86164656_0021 (too short at 0.0 mins)\n",
      " - Segment: 86164656_0022 (too short at 0.1 mins)\n",
      " - Segment: 86164656_0023 (too short at 0.0 mins)\n",
      " - Segment: 86164656_0024 (too short at 0.7 mins)\n",
      " - Segment: 86164656_0025 (too short at 0.1 mins)\n",
      " - Segment: 86164656_0026 (too short at 0.0 mins)\n",
      " - Segment: 86164656_0027 (too short at 0.0 mins)\n",
      " - Segment: 86164656_0028 (too short at 0.0 mins)\n",
      " - Segment: 86164656_0029 (too short at 0.1 mins)\n",
      " - Segment: 86164656_0030 (too short at 0.2 mins)\n",
      " - Segment: 86164656_0031 (too short at 0.0 mins)\n",
      " - Segment: 86164656_0032 (too short at 4.0 mins)\n",
      " - Segment: 86164656_0033 (too short at 0.1 mins)\n",
      " - Segment: 86164656_0034 (too short at 0.0 mins)\n",
      " - Segment: 86164656_0035 (too short at 4.1 mins)\n",
      " - Segment: 86164656_0036 (too short at 0.1 mins)\n",
      " - Segment: 86164656_0037 (too short at 0.0 mins)\n",
      " - Segment: 86164656_0038 (too short at 0.3 mins)\n",
      " - Segment: 86164656_0039 (too short at 0.1 mins)\n",
      " - Segment: 86164656_0040 (too short at 0.1 mins)\n",
      " - Segment: 86164656_0041 (too short at 0.7 mins)\n",
      " - Segment: 86164656_0042 (too short at 0.0 mins)\n",
      " - Segment: 86164656_0043 (too short at 0.1 mins)\n",
      " - Segment: 86164656_0044 (too short at 0.2 mins)\n",
      " - Segment: 86164656_0045 (too short at 0.1 mins)\n",
      " - Segment: 86164656_0046 (too short at 3.0 mins)\n",
      " - Segment: 86164656_0047 (too short at 0.0 mins)\n",
      " - Segment: 86164656_0048 (too short at 0.1 mins)\n",
      " - Segment: 86164656_0049 (too short at 0.1 mins)\n",
      " - Segment: 86164656_0050 (too short at 0.0 mins)\n",
      " - Segment: 86164656_0051 (too short at 0.9 mins)\n",
      " - Segment: 86164656_0052 (too short at 0.2 mins)\n",
      " - Segment: 86164656_0053 (too short at 0.1 mins)\n",
      " - Segment: 86164656_0054 (long enough, but missing signal(s))\n",
      " - Segment: 86164656_0055 (too short at 0.0 mins)\n",
      " - Segment: 86164656_0056 (too short at 0.1 mins)\n",
      " - Segment: 86164656_0057 (too short at 0.1 mins)\n",
      " - Segment: 86164656_0058 (too short at 0.2 mins)\n",
      " - Segment: 86164656_0059 (too short at 0.1 mins)\n",
      " - Segment: 86164656_0060 (long enough, but missing signal(s))\n",
      " - Segment: 86164656_0061 (too short at 0.1 mins)\n",
      " - Segment: 86164656_0062 (too short at 0.1 mins)\n",
      " - Segment: 86164656_0063 (too short at 0.1 mins)\n",
      " - Segment: 86164656_0064 (long enough, but missing signal(s))\n",
      " - Segment: 86164656_0065 (too short at 0.1 mins)\n",
      " - Segment: 86164656_0066 (too short at 0.0 mins)\n",
      " - Segment: 86164656_0067 (too short at 1.1 mins)\n",
      " - Segment: 86164656_0068 (too short at 0.1 mins)\n",
      " - Segment: 86164656_0069 (too short at 0.0 mins)\n",
      " - Segment: 86164656_0070 (long enough, but missing signal(s))\n",
      " - Segment: 86164656_0071 (too short at 0.1 mins)\n",
      " - Segment: 86164656_0072 (too short at 0.0 mins)\n",
      " - Segment: 86164656_0073 (too short at 1.0 mins)\n",
      " - Segment: 86164656_0074 (too short at 0.2 mins)\n",
      " - Segment: 86164656_0075 (too short at 0.0 mins)\n",
      " - Segment: 86164656_0076 (long enough, but missing signal(s))\n",
      " - Segment: 86164656_0077 (too short at 0.1 mins)\n",
      " - Segment: 86164656_0078 (too short at 0.0 mins)\n",
      " - Segment: 86164656_0079 (too short at 1.5 mins)\n",
      " - Segment: 86164656_0080 (too short at 0.2 mins)\n",
      " - Segment: 86164656_0081 (too short at 0.1 mins)\n",
      " - Segment: 86164656_0082 (long enough, but missing signal(s))\n",
      " - Segment: 86164656_0083 (too short at 0.0 mins)\n",
      " - Segment: 86164656_0084 (too short at 0.0 mins)\n",
      " - Segment: 86164656_0085 (met requirements)\n",
      "Record: waves/p190/p19052042/84601191/84601191 (reading data)\n",
      " - Segment: 84601191_0000 (too short at 0.0 mins)\n",
      " - Segment: 84601191_0001 (too short at 0.1 mins)\n",
      "Record: waves/p191/p19126489/89699401/89699401 (reading data)\n",
      " - Segment: 89699401_0000 (too short at 0.0 mins)\n",
      " - Segment: 89699401_0001 (met requirements)\n",
      "Record: waves/p192/p19290410/81362381/81362381 (reading data)\n",
      " - Segment: 81362381_0000 (too short at 0.0 mins)\n",
      " - Segment: 81362381_0001 (long enough, but missing signal(s))\n",
      " - Segment: 81362381_0002 (too short at 0.0 mins)\n",
      " - Segment: 81362381_0003 (too short at 0.1 mins)\n",
      " - Segment: 81362381_0004 (too short at 0.3 mins)\n",
      " - Segment: 81362381_0005 (too short at 0.1 mins)\n",
      " - Segment: 81362381_0006 (too short at 0.1 mins)\n",
      " - Segment: 81362381_0007 (too short at 0.1 mins)\n",
      " - Segment: 81362381_0008 (too short at 0.0 mins)\n",
      " - Segment: 81362381_0009 (too short at 2.7 mins)\n",
      " - Segment: 81362381_0010 (too short at 0.1 mins)\n",
      " - Segment: 81362381_0011 (too short at 0.0 mins)\n",
      " - Segment: 81362381_0012 (long enough, but missing signal(s))\n",
      " - Segment: 81362381_0013 (too short at 0.0 mins)\n",
      " - Segment: 81362381_0014 (too short at 0.0 mins)\n",
      " - Segment: 81362381_0015 (too short at 6.4 mins)\n",
      " - Segment: 81362381_0016 (too short at 0.2 mins)\n",
      " - Segment: 81362381_0017 (too short at 0.0 mins)\n",
      " - Segment: 81362381_0018 (long enough, but missing signal(s))\n",
      " - Segment: 81362381_0019 (too short at 0.1 mins)\n",
      " - Segment: 81362381_0020 (too short at 0.0 mins)\n",
      " - Segment: 81362381_0021 (too short at 3.1 mins)\n",
      " - Segment: 81362381_0022 (too short at 0.2 mins)\n",
      " - Segment: 81362381_0023 (too short at 0.1 mins)\n",
      " - Segment: 81362381_0024 (long enough, but missing signal(s))\n",
      " - Segment: 81362381_0025 (too short at 0.0 mins)\n",
      " - Segment: 81362381_0026 (too short at 0.1 mins)\n",
      " - Segment: 81362381_0027 (too short at 0.4 mins)\n",
      " - Segment: 81362381_0028 (too short at 0.1 mins)\n",
      " - Segment: 81362381_0029 (too short at 0.0 mins)\n",
      " - Segment: 81362381_0030 (long enough, but missing signal(s))\n",
      " - Segment: 81362381_0031 (long enough, but missing signal(s))\n",
      " - Segment: 81362381_0032 (too short at 0.0 mins)\n",
      " - Segment: 81362381_0033 (too short at 0.0 mins)\n",
      " - Segment: 81362381_0034 (too short at 0.2 mins)\n",
      " - Segment: 81362381_0035 (too short at 0.1 mins)\n",
      " - Segment: 81362381_0036 (too short at 0.0 mins)\n",
      " - Segment: 81362381_0037 (too short at 1.9 mins)\n",
      " - Segment: 81362381_0038 (too short at 0.0 mins)\n",
      " - Segment: 81362381_0039 (too short at 0.1 mins)\n",
      " - Segment: 81362381_0040 (too short at 0.1 mins)\n",
      " - Segment: 81362381_0041 (long enough, but missing signal(s))\n",
      " - Segment: 81362381_0042 (long enough, but missing signal(s))\n",
      " - Segment: 81362381_0043 (too short at 0.0 mins)\n",
      " - Segment: 81362381_0044 (too short at 0.1 mins)\n",
      " - Segment: 81362381_0045 (too short at 4.4 mins)\n",
      " - Segment: 81362381_0046 (too short at 0.1 mins)\n",
      " - Segment: 81362381_0047 (too short at 0.0 mins)\n",
      " - Segment: 81362381_0048 (long enough, but missing signal(s))\n",
      " - Segment: 81362381_0049 (too short at 0.1 mins)\n",
      " - Segment: 81362381_0050 (too short at 0.0 mins)\n",
      " - Segment: 81362381_0051 (met requirements)\n",
      "Record: waves/p193/p19305085/87468061/87468061 (reading data)\n",
      " - Segment: 87468061_0000 (too short at 0.0 mins)\n",
      " - Segment: 87468061_0001 (too short at 0.1 mins)\n",
      " - Segment: 87468061_0002 (met requirements)\n",
      "Record: waves/p193/p19313794/88537698/88537698 (reading data)\n",
      " - Segment: 88537698_0000 (too short at 0.0 mins)\n",
      " - Segment: 88537698_0001 (too short at 0.6 mins)\n",
      " - Segment: 88537698_0002 (too short at 0.2 mins)\n",
      " - Segment: 88537698_0003 (too short at 0.1 mins)\n",
      " - Segment: 88537698_0004 (too short at 0.5 mins)\n"
     ]
    },
    {
     "name": "stdout",
     "output_type": "stream",
     "text": [
      " - Segment: 88537698_0005 (too short at 0.1 mins)\n",
      " - Segment: 88537698_0006 (too short at 0.0 mins)\n",
      " - Segment: 88537698_0007 (too short at 0.1 mins)\n",
      " - Segment: 88537698_0008 (too short at 5.0 mins)\n",
      " - Segment: 88537698_0009 (too short at 0.8 mins)\n",
      " - Segment: 88537698_0010 (too short at 0.3 mins)\n",
      " - Segment: 88537698_0011 (met requirements)\n",
      "Record: waves/p193/p19396598/82093805/82093805 (reading data)\n",
      " - Segment: 82093805_0000 (too short at 0.0 mins)\n",
      " - Segment: 82093805_0001 (too short at 1.5 mins)\n",
      " - Segment: 82093805_0002 (too short at 0.1 mins)\n",
      " - Segment: 82093805_0003 (too short at 0.0 mins)\n",
      " - Segment: 82093805_0004 (too short at 0.0 mins)\n",
      " - Segment: 82093805_0005 (too short at 3.4 mins)\n",
      " - Segment: 82093805_0006 (too short at 1.4 mins)\n",
      " - Segment: 82093805_0007 (too short at 0.5 mins)\n",
      " - Segment: 82093805_0008 (too short at 6.9 mins)\n",
      " - Segment: 82093805_0009 (too short at 0.3 mins)\n",
      " - Segment: 82093805_0010 (too short at 0.6 mins)\n",
      " - Segment: 82093805_0011 (met requirements)\n",
      "Record: waves/p194/p19477300/86239129/86239129 (reading data)\n",
      "   (missing signals)\n",
      "Record: waves/p194/p19498855/81594095/81594095 (reading data)\n",
      " - Segment: 81594095_0000 (too short at 0.0 mins)\n",
      " - Segment: 81594095_0001 (too short at 1.0 mins)\n",
      " - Segment: 81594095_0002 (too short at 0.8 mins)\n",
      " - Segment: 81594095_0003 (too short at 0.2 mins)\n",
      " - Segment: 81594095_0004 (too short at 0.2 mins)\n",
      " - Segment: 81594095_0005 (too short at 0.0 mins)\n",
      " - Segment: 81594095_0006 (too short at 0.1 mins)\n",
      " - Segment: 81594095_0007 (met requirements)\n",
      "Record: waves/p195/p19504755/85059986/85059986 (reading data)\n",
      " - Segment: 85059986_0000 (too short at 0.0 mins)\n",
      " - Segment: 85059986_0001 (met requirements)\n",
      "Record: waves/p196/p19619764/83958172/83958172 (reading data)\n",
      " - Segment: 83958172_0000 (too short at 0.0 mins)\n",
      " - Segment: 83958172_0001 (met requirements)\n",
      "Record: waves/p196/p19646228/87340466/87340466 (reading data)\n",
      " - Segment: 87340466_0000 (too short at 0.0 mins)\n",
      " - Segment: 87340466_0001 (too short at 2.7 mins)\n",
      "Record: waves/p196/p19664876/86315854/86315854 (reading data)\n",
      " - Segment: 86315854_0000 (too short at 0.0 mins)\n",
      " - Segment: 86315854_0001 (long enough, but missing signal(s))\n",
      " - Segment: 86315854_0002 (too short at 0.1 mins)\n",
      " - Segment: 86315854_0003 (too short at 0.0 mins)\n",
      " - Segment: 86315854_0004 (too short at 0.0 mins)\n",
      " - Segment: 86315854_0005 (met requirements)\n",
      "Record: waves/p197/p19706392/89657546/89657546 (reading data)\n",
      " - Segment: 89657546_0000 (too short at 0.0 mins)\n",
      " - Segment: 89657546_0001 (too short at 0.1 mins)\n",
      " - Segment: 89657546_0002 (too short at 0.1 mins)\n",
      " - Segment: 89657546_0003 (too short at 0.0 mins)\n",
      " - Segment: 89657546_0004 (too short at 0.2 mins)\n",
      " - Segment: 89657546_0005 (too short at 0.1 mins)\n",
      " - Segment: 89657546_0006 (too short at 0.1 mins)\n",
      " - Segment: 89657546_0007 (too short at 0.0 mins)\n",
      " - Segment: 89657546_0008 (met requirements)\n",
      "Record: waves/p197/p19772551/83530581/83530581 (reading data)\n",
      "   (missing signals)\n",
      "Record: waves/p199/p19918916/89922194/89922194 (reading data)\n",
      " - Segment: 89922194_0000 (too short at 0.0 mins)\n",
      " - Segment: 89922194_0001 (met requirements)\n",
      "Record: waves/p199/p19979360/89865959/89865959 (reading data)\n",
      " - Segment: 89865959_0000 (too short at 0.0 mins)\n",
      " - Segment: 89865959_0001 (met requirements)\n",
      "Record: waves/p199/p19994379/87407093/87407093 (reading data)\n",
      " - Segment: 87407093_0000 (too short at 0.0 mins)\n",
      " - Segment: 87407093_0001 (met requirements)\n",
      "A total of 170 records met the requirements:\n"
     ]
    }
   ],
   "source": [
    "matching_recs = {'dir':[], 'seg_name':[], 'length':[]}\n",
    "\n",
    "for record in records:\n",
    "    print('Record: {}'.format(record), end=\"\", flush=True)\n",
    "    record_dir = f'{database_name}/{record.parent}'\n",
    "    record_name = record.name\n",
    "    print(' (reading data)')\n",
    "    record_data = wfdb.rdheader(record_name,\n",
    "                                pn_dir=record_dir,\n",
    "                                rd_segments=True)\n",
    "\n",
    "    # Check whether the required signals are present in the record\n",
    "    sigs_present = record_data.sig_name\n",
    "    if not all(x in sigs_present for x in required_sigs):\n",
    "        print('   (missing signals)')\n",
    "        continue\n",
    "\n",
    "    # Get the segments for the record\n",
    "    segments = record_data.seg_name\n",
    "\n",
    "    # Check to see if the segment is 10 min long\n",
    "    # If not, move to the next one\n",
    "    gen = (segment for segment in segments if segment != '~')\n",
    "    for segment in gen:\n",
    "        print(' - Segment: {}'.format(segment), end=\"\", flush=True)\n",
    "        segment_metadata = wfdb.rdheader(record_name=segment,\n",
    "                                         pn_dir=record_dir)\n",
    "        seg_length = segment_metadata.sig_len/(segment_metadata.fs)\n",
    "\n",
    "        if seg_length < req_seg_duration:\n",
    "            print(f' (too short at {seg_length/60:.1f} mins)')\n",
    "            continue\n",
    "\n",
    "        # Next check that all required signals are present in the segment\n",
    "        sigs_present = segment_metadata.sig_name\n",
    "        \n",
    "        if all(x in sigs_present for x in required_sigs):\n",
    "            matching_recs['dir'].append(record_dir)\n",
    "            matching_recs['seg_name'].append(segment)\n",
    "            matching_recs['length'].append(seg_length)\n",
    "            print(' (met requirements)')\n",
    "            # Since we only need one segment per record break out of loop\n",
    "            break\n",
    "        else:\n",
    "            print(' (long enough, but missing signal(s))')\n",
    "\n",
    "print(f\"A total of {len(matching_recs['dir'])} records met the requirements:\")\n",
    "\n",
    "#df_matching_recs = pd.DataFrame(data=matching_recs)\n",
    "#df_matching_recs.to_csv('matching_records.csv', index=False)\n",
    "#p=1"
   ]
  },
  {
   "cell_type": "code",
   "execution_count": 21,
   "id": "75ec15f4",
   "metadata": {
    "colab": {
     "base_uri": "https://localhost:8080/"
    },
    "id": "75ec15f4",
    "outputId": "3ea832cd-4a4b-4265-bc2b-275d0f6c1802"
   },
   "outputs": [
    {
     "name": "stdout",
     "output_type": "stream",
     "text": [
      "A total of 170 out of 200 records met the requirements.\n",
      "\n",
      "The relevant segment names are:\n",
      " - 81739927_0008\n",
      " - 87033314_0005\n",
      " - 83404654_0001\n",
      " - 83411188_0005\n",
      " - 85583557_0001\n",
      " - 85594648_0001\n",
      " - 83268087_0129\n",
      " - 88501826_0008\n",
      " - 82924339_0007\n",
      " - 84248019_0005\n",
      " - 88399302_0001\n",
      " - 88374538_0012\n",
      " - 86426168_0014\n",
      " - 81826943_0010\n",
      " - 82439920_0004\n",
      " - 82432904_0007\n",
      " - 82800131_0002\n",
      " - 81312415_0008\n",
      " - 84304393_0001\n",
      " - 82650378_0001\n",
      " - 88733244_0006\n",
      " - 88636340_0002\n",
      " - 87942784_0007\n",
      " - 86130599_0001\n",
      " - 81602645_0001\n",
      " - 88867862_0001\n",
      " - 89464742_0001\n",
      " - 88958796_0004\n",
      " - 88995377_0001\n",
      " - 81515145_0008\n",
      " - 84513510_0002\n",
      " - 86906600_0007\n",
      " - 88826653_0008\n",
      " - 81741333_0001\n",
      " - 80674263_0001\n",
      " - 85393521_0006\n",
      " - 82552643_0001\n",
      " - 85835247_0001\n",
      " - 80154334_0001\n",
      " - 81739815_0001\n",
      " - 83054955_0003\n",
      " - 85230771_0004\n",
      " - 84094519_0002\n",
      " - 86643930_0001\n",
      " - 81250824_0005\n",
      " - 85361504_0001\n",
      " - 87473566_0001\n",
      " - 87023605_0006\n",
      " - 82342224_0005\n",
      " - 81815063_0001\n",
      " - 87706224_0003\n",
      " - 82697127_0002\n",
      " - 88841356_0001\n",
      " - 80200410_0001\n",
      " - 83988903_0006\n",
      " - 83058614_0005\n",
      " - 81178488_0004\n",
      " - 82803505_0002\n",
      " - 85241465_0007\n",
      " - 85874778_0010\n",
      " - 86429079_0007\n",
      " - 80351079_0001\n",
      " - 81396664_0001\n",
      " - 87613677_0001\n",
      " - 85863370_0007\n",
      " - 88574629_0001\n",
      " - 80493349_0001\n",
      " - 87867111_0001\n",
      " - 84560969_0001\n",
      " - 87562386_0001\n",
      " - 89909100_0008\n",
      " - 89923227_0001\n",
      " - 82257762_0001\n",
      " - 88685937_0001\n",
      " - 86201081_0001\n",
      " - 80705205_0001\n",
      " - 83682560_0005\n",
      " - 88188377_0002\n",
      " - 86120311_0001\n",
      " - 82582002_0001\n",
      " - 89866183_0014\n",
      " - 89068160_0002\n",
      " - 83076714_0001\n",
      " - 86380383_0001\n",
      " - 89565005_0002\n",
      " - 87710197_0002\n",
      " - 80713046_0002\n",
      " - 85078610_0008\n",
      " - 87702634_0007\n",
      " - 87121214_0011\n",
      " - 83226324_0008\n",
      " - 84323120_0001\n",
      " - 80620046_0009\n",
      " - 84686667_0002\n",
      " - 84802706_0002\n",
      " - 81811182_0004\n",
      " - 84421559_0005\n",
      " - 88221516_0007\n",
      " - 84765423_0001\n",
      " - 87257193_0001\n",
      " - 87730914_0008\n",
      " - 84746493_0001\n",
      " - 85937857_0010\n",
      " - 89328952_0001\n",
      " - 87509018_0007\n",
      " - 81902403_0002\n",
      " - 80057524_0001\n",
      " - 88159741_0001\n",
      " - 84209926_0008\n",
      " - 86666275_0001\n",
      " - 83394240_0001\n",
      " - 83349747_0006\n",
      " - 83959636_0010\n",
      " - 89989722_0016\n",
      " - 89225487_0007\n",
      " - 82493254_0005\n",
      " - 83877081_0011\n",
      " - 84917468_0002\n",
      " - 88967754_0001\n",
      " - 87311151_0008\n",
      " - 84391267_0001\n",
      " - 83439223_0001\n",
      " - 80889556_0002\n",
      " - 85250558_0011\n",
      " - 84567505_0005\n",
      " - 88976763_0001\n",
      " - 80111237_0004\n",
      " - 84486962_0009\n",
      " - 85814172_0003\n",
      " - 88582885_0001\n",
      " - 88788921_0005\n",
      " - 84580526_0001\n",
      " - 88884866_0004\n",
      " - 80497954_0012\n",
      " - 86917206_0002\n",
      " - 84786832_0002\n",
      " - 80666640_0014\n",
      " - 83801243_0007\n",
      " - 83973028_0001\n",
      " - 88626898_0001\n",
      " - 84939605_0004\n",
      " - 82141753_0011\n",
      " - 86297093_0001\n",
      " - 89743206_0007\n",
      " - 86874920_0012\n",
      " - 84261835_0011\n",
      " - 85888407_0001\n",
      " - 89821554_0001\n",
      " - 85263057_0005\n",
      " - 81139702_0001\n",
      " - 81937383_0001\n",
      " - 88457020_0008\n",
      " - 84505262_0010\n",
      " - 82650643_0007\n",
      " - 85940419_0004\n",
      " - 86288257_0001\n",
      " - 86164656_0085\n",
      " - 89699401_0001\n",
      " - 81362381_0051\n",
      " - 87468061_0002\n",
      " - 88537698_0011\n",
      " - 82093805_0011\n",
      " - 81594095_0007\n",
      " - 85059986_0001\n",
      " - 83958172_0001\n",
      " - 86315854_0005\n",
      " - 89657546_0008\n",
      " - 89922194_0001\n",
      " - 89865959_0001\n",
      " - 87407093_0001\n",
      "\n",
      "The corresponding directories are: \n",
      " - mimic4wdb/0.1.0/waves/p100/p10014354/81739927\n",
      " - mimic4wdb/0.1.0/waves/p100/p10019003/87033314\n",
      " - mimic4wdb/0.1.0/waves/p100/p10020306/83404654\n",
      " - mimic4wdb/0.1.0/waves/p100/p10039708/83411188\n",
      " - mimic4wdb/0.1.0/waves/p100/p10039708/85583557\n",
      " - mimic4wdb/0.1.0/waves/p100/p10079700/85594648\n",
      " - mimic4wdb/0.1.0/waves/p101/p10100546/83268087\n",
      " - mimic4wdb/0.1.0/waves/p101/p10112163/88501826\n",
      " - mimic4wdb/0.1.0/waves/p101/p10126957/82924339\n",
      " - mimic4wdb/0.1.0/waves/p102/p10209410/84248019\n",
      " - mimic4wdb/0.1.0/waves/p103/p10303080/88399302\n",
      " - mimic4wdb/0.1.0/waves/p104/p10494990/88374538\n",
      " - mimic4wdb/0.1.0/waves/p106/p10680081/86426168\n",
      " - mimic4wdb/0.1.0/waves/p108/p10882818/81826943\n",
      " - mimic4wdb/0.1.0/waves/p109/p10952189/82439920\n",
      " - mimic4wdb/0.1.0/waves/p110/p11013146/82432904\n",
      " - mimic4wdb/0.1.0/waves/p111/p11109975/82800131\n",
      " - mimic4wdb/0.1.0/waves/p113/p11320864/81312415\n",
      " - mimic4wdb/0.1.0/waves/p113/p11392990/84304393\n",
      " - mimic4wdb/0.1.0/waves/p115/p11552552/82650378\n",
      " - mimic4wdb/0.1.0/waves/p115/p11552552/88733244\n",
      " - mimic4wdb/0.1.0/waves/p115/p11558369/88636340\n",
      " - mimic4wdb/0.1.0/waves/p115/p11573811/87942784\n",
      " - mimic4wdb/0.1.0/waves/p115/p11596691/86130599\n",
      " - mimic4wdb/0.1.0/waves/p116/p11699665/81602645\n",
      " - mimic4wdb/0.1.0/waves/p119/p11944882/88867862\n",
      " - mimic4wdb/0.1.0/waves/p121/p12168037/89464742\n",
      " - mimic4wdb/0.1.0/waves/p121/p12173569/88958796\n",
      " - mimic4wdb/0.1.0/waves/p121/p12188288/88995377\n",
      " - mimic4wdb/0.1.0/waves/p122/p12246674/81515145\n",
      " - mimic4wdb/0.1.0/waves/p122/p12290932/84513510\n",
      " - mimic4wdb/0.1.0/waves/p122/p12295067/86906600\n",
      " - mimic4wdb/0.1.0/waves/p124/p12408438/88826653\n",
      " - mimic4wdb/0.1.0/waves/p124/p12424398/81741333\n",
      " - mimic4wdb/0.1.0/waves/p125/p12545470/80674263\n",
      " - mimic4wdb/0.1.0/waves/p125/p12563752/85393521\n",
      " - mimic4wdb/0.1.0/waves/p125/p12567919/82552643\n",
      " - mimic4wdb/0.1.0/waves/p127/p12789108/85835247\n",
      " - mimic4wdb/0.1.0/waves/p128/p12801061/80154334\n",
      " - mimic4wdb/0.1.0/waves/p128/p12807320/81739815\n",
      " - mimic4wdb/0.1.0/waves/p128/p12847457/83054955\n",
      " - mimic4wdb/0.1.0/waves/p128/p12872596/85230771\n",
      " - mimic4wdb/0.1.0/waves/p128/p12882754/84094519\n",
      " - mimic4wdb/0.1.0/waves/p129/p12933208/86643930\n",
      " - mimic4wdb/0.1.0/waves/p130/p13016481/81250824\n",
      " - mimic4wdb/0.1.0/waves/p130/p13080738/85361504\n",
      " - mimic4wdb/0.1.0/waves/p130/p13090274/87473566\n",
      " - mimic4wdb/0.1.0/waves/p131/p13184012/87023605\n",
      " - mimic4wdb/0.1.0/waves/p132/p13208026/82342224\n",
      " - mimic4wdb/0.1.0/waves/p132/p13216117/81815063\n",
      " - mimic4wdb/0.1.0/waves/p132/p13240081/87706224\n",
      " - mimic4wdb/0.1.0/waves/p133/p13364831/82697127\n",
      " - mimic4wdb/0.1.0/waves/p134/p13457656/88841356\n",
      " - mimic4wdb/0.1.0/waves/p134/p13496169/80200410\n",
      " - mimic4wdb/0.1.0/waves/p136/p13620446/83988903\n",
      " - mimic4wdb/0.1.0/waves/p136/p13624686/83058614\n",
      " - mimic4wdb/0.1.0/waves/p137/p13724605/81178488\n",
      " - mimic4wdb/0.1.0/waves/p137/p13791821/82803505\n",
      " - mimic4wdb/0.1.0/waves/p138/p13840756/85241465\n",
      " - mimic4wdb/0.1.0/waves/p139/p13909615/85874778\n",
      " - mimic4wdb/0.1.0/waves/p140/p14025287/86429079\n",
      " - mimic4wdb/0.1.0/waves/p140/p14043090/80351079\n",
      " - mimic4wdb/0.1.0/waves/p140/p14057060/81396664\n",
      " - mimic4wdb/0.1.0/waves/p140/p14071752/87613677\n",
      " - mimic4wdb/0.1.0/waves/p141/p14141512/85863370\n",
      " - mimic4wdb/0.1.0/waves/p141/p14191565/88574629\n",
      " - mimic4wdb/0.1.0/waves/p142/p14260018/80493349\n",
      " - mimic4wdb/0.1.0/waves/p142/p14285792/87867111\n",
      " - mimic4wdb/0.1.0/waves/p143/p14356077/84560969\n",
      " - mimic4wdb/0.1.0/waves/p143/p14363499/87562386\n",
      " - mimic4wdb/0.1.0/waves/p145/p14504374/89909100\n",
      " - mimic4wdb/0.1.0/waves/p146/p14629329/89923227\n",
      " - mimic4wdb/0.1.0/waves/p146/p14678292/82257762\n",
      " - mimic4wdb/0.1.0/waves/p146/p14695840/88685937\n",
      " - mimic4wdb/0.1.0/waves/p147/p14739057/86201081\n",
      " - mimic4wdb/0.1.0/waves/p147/p14781701/80705205\n",
      " - mimic4wdb/0.1.0/waves/p147/p14782379/83682560\n",
      " - mimic4wdb/0.1.0/waves/p148/p14811560/88188377\n",
      " - mimic4wdb/0.1.0/waves/p149/p14931547/86120311\n",
      " - mimic4wdb/0.1.0/waves/p150/p15030787/82582002\n",
      " - mimic4wdb/0.1.0/waves/p151/p15174162/89866183\n",
      " - mimic4wdb/0.1.0/waves/p153/p15312343/89068160\n",
      " - mimic4wdb/0.1.0/waves/p153/p15315368/83076714\n",
      " - mimic4wdb/0.1.0/waves/p153/p15342703/86380383\n",
      " - mimic4wdb/0.1.0/waves/p154/p15461634/89565005\n",
      " - mimic4wdb/0.1.0/waves/p154/p15465960/87710197\n",
      " - mimic4wdb/0.1.0/waves/p155/p15524470/80713046\n",
      " - mimic4wdb/0.1.0/waves/p155/p15552902/85078610\n",
      " - mimic4wdb/0.1.0/waves/p156/p15649186/87702634\n",
      " - mimic4wdb/0.1.0/waves/p156/p15651262/87121214\n",
      " - mimic4wdb/0.1.0/waves/p156/p15685201/83226324\n",
      " - mimic4wdb/0.1.0/waves/p157/p15738617/84323120\n",
      " - mimic4wdb/0.1.0/waves/p158/p15855446/80620046\n",
      " - mimic4wdb/0.1.0/waves/p158/p15857793/84686667\n",
      " - mimic4wdb/0.1.0/waves/p158/p15865327/84802706\n",
      " - mimic4wdb/0.1.0/waves/p158/p15896656/81811182\n",
      " - mimic4wdb/0.1.0/waves/p159/p15920699/84421559\n",
      " - mimic4wdb/0.1.0/waves/p160/p16034243/88221516\n",
      " - mimic4wdb/0.1.0/waves/p160/p16074364/84765423\n",
      " - mimic4wdb/0.1.0/waves/p160/p16089661/87257193\n",
      " - mimic4wdb/0.1.0/waves/p160/p16096029/87730914\n",
      " - mimic4wdb/0.1.0/waves/p162/p16224237/84746493\n",
      " - mimic4wdb/0.1.0/waves/p163/p16331109/85937857\n",
      " - mimic4wdb/0.1.0/waves/p164/p16442963/89328952\n",
      " - mimic4wdb/0.1.0/waves/p164/p16450343/87509018\n",
      " - mimic4wdb/0.1.0/waves/p165/p16547220/81902403\n",
      " - mimic4wdb/0.1.0/waves/p165/p16566444/80057524\n",
      " - mimic4wdb/0.1.0/waves/p166/p16601928/88159741\n",
      " - mimic4wdb/0.1.0/waves/p166/p16644640/84209926\n",
      " - mimic4wdb/0.1.0/waves/p166/p16645935/86666275\n",
      " - mimic4wdb/0.1.0/waves/p166/p16662288/83394240\n",
      " - mimic4wdb/0.1.0/waves/p166/p16683551/83349747\n",
      " - mimic4wdb/0.1.0/waves/p167/p16709726/83959636\n",
      " - mimic4wdb/0.1.0/waves/p167/p16715341/89989722\n",
      " - mimic4wdb/0.1.0/waves/p168/p16818396/89225487\n",
      " - mimic4wdb/0.1.0/waves/p168/p16820602/82493254\n",
      " - mimic4wdb/0.1.0/waves/p168/p16846280/83877081\n",
      " - mimic4wdb/0.1.0/waves/p168/p16848565/84917468\n",
      " - mimic4wdb/0.1.0/waves/p169/p16949991/88967754\n",
      " - mimic4wdb/0.1.0/waves/p169/p16971339/87311151\n",
      " - mimic4wdb/0.1.0/waves/p170/p17032851/84391267\n",
      " - mimic4wdb/0.1.0/waves/p171/p17107892/83439223\n",
      " - mimic4wdb/0.1.0/waves/p172/p17229504/80889556\n",
      " - mimic4wdb/0.1.0/waves/p173/p17301721/85250558\n",
      " - mimic4wdb/0.1.0/waves/p173/p17325001/84567505\n",
      " - mimic4wdb/0.1.0/waves/p174/p17413562/88976763\n",
      " - mimic4wdb/0.1.0/waves/p174/p17459141/80111237\n",
      " - mimic4wdb/0.1.0/waves/p174/p17488284/84486962\n",
      " - mimic4wdb/0.1.0/waves/p174/p17490822/85814172\n",
      " - mimic4wdb/0.1.0/waves/p175/p17549883/88582885\n",
      " - mimic4wdb/0.1.0/waves/p177/p17701063/88788921\n",
      " - mimic4wdb/0.1.0/waves/p177/p17708869/84580526\n",
      " - mimic4wdb/0.1.0/waves/p177/p17738824/88884866\n",
      " - mimic4wdb/0.1.0/waves/p177/p17744715/80497954\n",
      " - mimic4wdb/0.1.0/waves/p178/p17802132/86917206\n",
      " - mimic4wdb/0.1.0/waves/p178/p17818849/84786832\n",
      " - mimic4wdb/0.1.0/waves/p179/p17957832/80666640\n",
      " - mimic4wdb/0.1.0/waves/p179/p17973277/83801243\n",
      " - mimic4wdb/0.1.0/waves/p180/p18011649/83973028\n",
      " - mimic4wdb/0.1.0/waves/p180/p18034077/88626898\n",
      " - mimic4wdb/0.1.0/waves/p180/p18080257/84939605\n",
      " - mimic4wdb/0.1.0/waves/p181/p18109577/82141753\n",
      " - mimic4wdb/0.1.0/waves/p181/p18111015/86297093\n",
      " - mimic4wdb/0.1.0/waves/p181/p18195790/89743206\n",
      " - mimic4wdb/0.1.0/waves/p183/p18324626/86874920\n",
      " - mimic4wdb/0.1.0/waves/p184/p18423403/84261835\n",
      " - mimic4wdb/0.1.0/waves/p184/p18455165/85888407\n",
      " - mimic4wdb/0.1.0/waves/p184/p18466737/89821554\n",
      " - mimic4wdb/0.1.0/waves/p185/p18573443/85263057\n",
      " - mimic4wdb/0.1.0/waves/p186/p18667552/81139702\n",
      " - mimic4wdb/0.1.0/waves/p187/p18700695/81937383\n",
      " - mimic4wdb/0.1.0/waves/p187/p18709273/88457020\n",
      " - mimic4wdb/0.1.0/waves/p187/p18742074/84505262\n",
      " - mimic4wdb/0.1.0/waves/p187/p18768904/82650643\n",
      " - mimic4wdb/0.1.0/waves/p187/p18790258/85940419\n",
      " - mimic4wdb/0.1.0/waves/p188/p18824975/86288257\n",
      " - mimic4wdb/0.1.0/waves/p189/p18981843/86164656\n",
      " - mimic4wdb/0.1.0/waves/p191/p19126489/89699401\n",
      " - mimic4wdb/0.1.0/waves/p192/p19290410/81362381\n",
      " - mimic4wdb/0.1.0/waves/p193/p19305085/87468061\n",
      " - mimic4wdb/0.1.0/waves/p193/p19313794/88537698\n",
      " - mimic4wdb/0.1.0/waves/p193/p19396598/82093805\n",
      " - mimic4wdb/0.1.0/waves/p194/p19498855/81594095\n",
      " - mimic4wdb/0.1.0/waves/p195/p19504755/85059986\n",
      " - mimic4wdb/0.1.0/waves/p196/p19619764/83958172\n",
      " - mimic4wdb/0.1.0/waves/p196/p19664876/86315854\n",
      " - mimic4wdb/0.1.0/waves/p197/p19706392/89657546\n",
      " - mimic4wdb/0.1.0/waves/p199/p19918916/89922194\n",
      " - mimic4wdb/0.1.0/waves/p199/p19979360/89865959\n",
      " - mimic4wdb/0.1.0/waves/p199/p19994379/87407093\n"
     ]
    }
   ],
   "source": [
    "print(f\"A total of {len(matching_recs['dir'])} out of {len(records)} records met the requirements.\")\n",
    "\n",
    "relevant_segments_names = \"\\n - \".join(matching_recs['seg_name'])\n",
    "print(f\"\\nThe relevant segment names are:\\n - {relevant_segments_names}\")\n",
    "\n",
    "relevant_dirs = \"\\n - \".join(matching_recs['dir'])\n",
    "print(f\"\\nThe corresponding directories are: \\n - {relevant_dirs}\")"
   ]
  },
  {
   "cell_type": "markdown",
   "id": "719f20f8",
   "metadata": {
    "id": "719f20f8"
   },
   "source": [
    "<div class=\"alert alert-block alert-info\">\n",
    "<p><b>Question:</b> Is this enough data for a study? Consider different types of studies, e.g. assessing the performance of a previously proposed algorithm to estimate BP from the PPG signal, vs. developing a deep learning approach to estimate BP from the PPG.</p>\n",
    "</div>"
   ]
  },
  {
   "cell_type": "markdown",
   "id": "bee85dfd",
   "metadata": {},
   "source": [
    "## Data Extraction"
   ]
  },
  {
   "cell_type": "code",
   "execution_count": 7,
   "id": "6fccda20",
   "metadata": {
    "id": "6fccda20",
    "scrolled": true
   },
   "outputs": [],
   "source": [
    "segment_names = ['83404654_0005']\n",
    "segment_dirs = ['mimic4wdb/0.1.0/waves/p100/p10020306/83404654']"
   ]
  },
  {
   "cell_type": "code",
   "execution_count": 8,
   "id": "bebefa73",
   "metadata": {},
   "outputs": [
    {
     "name": "stdout",
     "output_type": "stream",
     "text": [
      "Specified segment '83404654_0005' in directory: 'mimic4wdb/0.1.0/waves/p100/p10020306/83404654'\n"
     ]
    }
   ],
   "source": [
    "rel_segment_no = 0\n",
    "rel_segment_name = segment_names[rel_segment_no]\n",
    "rel_segment_dir = segment_dirs[rel_segment_no]\n",
    "print(f\"Specified segment '{rel_segment_name}' in directory: '{rel_segment_dir}'\")"
   ]
  },
  {
   "cell_type": "code",
   "execution_count": 9,
   "id": "5389852c",
   "metadata": {
    "scrolled": true
   },
   "outputs": [
    {
     "name": "stdout",
     "output_type": "stream",
     "text": [
      "Data loaded from segment: 83404654_0005\n"
     ]
    }
   ],
   "source": [
    "segment_data = wfdb.rdrecord(record_name=rel_segment_name, pn_dir=rel_segment_dir) \n",
    "print(f\"Data loaded from segment: {rel_segment_name}\")"
   ]
  },
  {
   "cell_type": "code",
   "execution_count": 10,
   "id": "1b6a133d",
   "metadata": {},
   "outputs": [
    {
     "name": "stdout",
     "output_type": "stream",
     "text": [
      "Data stored in class of type: <class 'wfdb.io.record.Record'>\n"
     ]
    }
   ],
   "source": [
    "print(f\"Data stored in class of type: {type(segment_data)}\")"
   ]
  },
  {
   "cell_type": "code",
   "execution_count": 11,
   "id": "90e8ab70",
   "metadata": {},
   "outputs": [
    {
     "name": "stdout",
     "output_type": "stream",
     "text": [
      "This segment contains waveform data for the following 6 signals: ['II', 'V', 'aVR', 'ABP', 'Pleth', 'Resp']\n",
      "The signals are sampled at a base rate of 62.4725 Hz (and some are sampled at multiples of this)\n",
      "They last for 52.4 minutes\n"
     ]
    }
   ],
   "source": [
    "print(f\"This segment contains waveform data for the following {segment_data.n_sig} signals: {segment_data.sig_name}\")\n",
    "print(f\"The signals are sampled at a base rate of {segment_data.fs} Hz (and some are sampled at multiples of this)\")\n",
    "print(f\"They last for {segment_data.sig_len/(60*segment_data.fs):.1f} minutes\")"
   ]
  },
  {
   "cell_type": "code",
   "execution_count": 12,
   "id": "61f14171",
   "metadata": {},
   "outputs": [
    {
     "name": "stdout",
     "output_type": "stream",
     "text": [
      "{'adc_gain': [200.0, 200.0, 200.0, 16.0, 4096.0, 4093.0],\n",
      " 'adc_res': [14, 14, 14, 13, 12, 12],\n",
      " 'adc_zero': [8192, 8192, 8192, 4096, 2048, 2048],\n",
      " 'base_counter': 10219520.0,\n",
      " 'base_date': None,\n",
      " 'base_time': None,\n",
      " 'baseline': [8192, 8192, 8192, 800, 0, 2],\n",
      " 'block_size': [0, 0, 0, 0, 0, 0],\n",
      " 'byte_offset': [None, None, None, None, None, None],\n",
      " 'checksum': [10167, 1300, 56956, 35887, 29987, 21750],\n",
      " 'comments': ['signal 0 (II): channel=0 bandpass=[0.5,35]',\n",
      "              'signal 1 (V): channel=1 bandpass=[0.5,35]',\n",
      "              'signal 2 (aVR): channel=2 bandpass=[0.5,35]'],\n",
      " 'counter_freq': 999.56,\n",
      " 'd_signal': None,\n",
      " 'e_d_signal': None,\n",
      " 'e_p_signal': None,\n",
      " 'file_name': ['83404654_0005e.dat',\n",
      "               '83404654_0005e.dat',\n",
      "               '83404654_0005e.dat',\n",
      "               '83404654_0005p.dat',\n",
      "               '83404654_0005p.dat',\n",
      "               '83404654_0005r.dat'],\n",
      " 'fmt': ['516', '516', '516', '516', '516', '516'],\n",
      " 'fs': 62.4725,\n",
      " 'init_value': [0, 0, 0, 0, 0, 0],\n",
      " 'n_sig': 6,\n",
      " 'p_signal': array([[ 0.00000000e+00, -6.50000000e-02, -5.00000000e-03,\n",
      "                    nan,  5.02929688e-01,  1.56120205e-01],\n",
      "       [ 5.00000000e-03, -4.50000000e-02, -5.00000000e-03,\n",
      "                    nan,  5.02929688e-01,  1.56853164e-01],\n",
      "       [ 1.50000000e-02, -2.50000000e-02,  5.00000000e-03,\n",
      "                    nan,  5.02929688e-01,  1.57097484e-01],\n",
      "       ...,\n",
      "       [-1.50000000e-02,  7.00000000e-02, -4.00000000e-02,\n",
      "         7.25000000e+01,  5.74951172e-01,  3.57683850e-01],\n",
      "       [-1.50000000e-02,  5.50000000e-02, -4.50000000e-02,\n",
      "         7.25000000e+01,  5.70800781e-01,  3.61104324e-01],\n",
      "       [ 0.00000000e+00,  9.00000000e-02, -5.50000000e-02,\n",
      "         7.25000000e+01,  5.62255859e-01,  3.63791840e-01]]),\n",
      " 'record_name': '83404654_0005',\n",
      " 'samps_per_frame': [4, 4, 4, 2, 2, 1],\n",
      " 'sig_len': 196480,\n",
      " 'sig_name': ['II', 'V', 'aVR', 'ABP', 'Pleth', 'Resp'],\n",
      " 'skew': [None, None, None, None, None, None],\n",
      " 'units': ['mV', 'mV', 'mV', 'mmHg', 'NU', 'Ohm']}\n"
     ]
    }
   ],
   "source": [
    "from pprint import pprint\n",
    "pprint(vars(segment_data))"
   ]
  },
  {
   "cell_type": "markdown",
   "id": "b12ce11d",
   "metadata": {},
   "source": [
    "# Data Visualization"
   ]
  },
  {
   "cell_type": "code",
   "execution_count": 13,
   "id": "aab58f15",
   "metadata": {},
   "outputs": [],
   "source": [
    "segment_names = ['83404654_0005', '82924339_0007']\n",
    "segment_dirs = ['mimic4wdb/0.1.0/waves/p100/p10020306/83404654',\n",
    "                'mimic4wdb/0.1.0/waves/p101/p10126957/82924339']"
   ]
  },
  {
   "cell_type": "code",
   "execution_count": 14,
   "id": "e9ba2436",
   "metadata": {},
   "outputs": [
    {
     "name": "stdout",
     "output_type": "stream",
     "text": [
      "Specified segment '82924339_0007' in directory: 'mimic4wdb/0.1.0/waves/p101/p10126957/82924339'\n"
     ]
    }
   ],
   "source": [
    "rel_segment_n = 1\n",
    "rel_segment_name = segment_names[rel_segment_n]\n",
    "rel_segment_dir = segment_dirs[rel_segment_n]\n",
    "print(f\"Specified segment '{rel_segment_name}' in directory: '{rel_segment_dir}'\")"
   ]
  },
  {
   "cell_type": "markdown",
   "id": "4728254c",
   "metadata": {},
   "source": [
    "## Extract one minute of data from this segment"
   ]
  },
  {
   "cell_type": "code",
   "execution_count": 15,
   "id": "bb1b563d",
   "metadata": {},
   "outputs": [],
   "source": [
    "# time since the start of the segment at which to begin extracting data\n",
    "start_seconds = 20\n",
    "n_seconds_to_load = 60"
   ]
  },
  {
   "cell_type": "code",
   "execution_count": 16,
   "id": "0745d6b2",
   "metadata": {},
   "outputs": [
    {
     "name": "stdout",
     "output_type": "stream",
     "text": [
      "Metadata loaded from segment: 82924339_0007\n"
     ]
    }
   ],
   "source": [
    "segment_metadata = wfdb.rdheader(record_name=rel_segment_name,\n",
    "                                 pn_dir=rel_segment_dir)\n",
    "\n",
    "print(f\"Metadata loaded from segment: {rel_segment_name}\")\n",
    "fs = round(segment_metadata.fs)"
   ]
  },
  {
   "cell_type": "code",
   "execution_count": 17,
   "id": "f9a14907",
   "metadata": {},
   "outputs": [
    {
     "name": "stdout",
     "output_type": "stream",
     "text": [
      "60 seconds of data extracted from segment 82924339_0007\n"
     ]
    }
   ],
   "source": [
    "sampfrom = fs * start_seconds\n",
    "sampto = fs * (start_seconds + n_seconds_to_load)\n",
    "\n",
    "segment_data = wfdb.rdrecord(record_name=rel_segment_name,\n",
    "                             sampfrom=sampfrom,\n",
    "                             sampto=sampto,\n",
    "                             pn_dir=rel_segment_dir)\n",
    "\n",
    "print(f\"{n_seconds_to_load} seconds of data extracted from segment {rel_segment_name}\")"
   ]
  },
  {
   "cell_type": "code",
   "execution_count": 18,
   "id": "e67c83f5",
   "metadata": {},
   "outputs": [
    {
     "data": {
      "image/png": "[encoded data removed]",
      "text/plain": [
       "<Figure size 640x480 with 6 Axes>"
      ]
     },
     "metadata": {},
     "output_type": "display_data"
    }
   ],
   "source": [
    "title_text = f\"Segment {rel_segment_name}\"\n",
    "wfdb.plot_wfdb(record=segment_data,\n",
    "               title=title_text,\n",
    "               time_units='seconds') "
   ]
  },
  {
   "cell_type": "markdown",
   "id": "adb51f1b",
   "metadata": {},
   "source": [
    "## Extract PPG signal"
   ]
  },
  {
   "cell_type": "code",
   "execution_count": 34,
   "id": "d817759d",
   "metadata": {},
   "outputs": [
    {
     "name": "stdout",
     "output_type": "stream",
     "text": [
      "Extracted the PPG signal from column 4 of the matrix of waveform data.\n"
     ]
    }
   ],
   "source": [
    "for sig_no in range(0, len(segment_data.sig_name)):\n",
    "    if \"Pleth\" in segment_data.sig_name[sig_no]:\n",
    "        break\n",
    "\n",
    "ppg = segment_data.p_signal[:, sig_no]\n",
    "fs = segment_data.fs\n",
    "print(f\"Extracted the PPG signal from column {sig_no} of the matrix of waveform data.\")"
   ]
  },
  {
   "cell_type": "code",
   "execution_count": 35,
   "id": "92c2791d",
   "metadata": {
    "scrolled": true
   },
   "outputs": [
    {
     "data": {
      "text/plain": [
       "(50.0, 55.0)"
      ]
     },
     "execution_count": 35,
     "metadata": {},
     "output_type": "execute_result"
    },
    {
     "data": {
      "image/png": "[encoded data removed]",
      "text/plain": [
       "<Figure size 640x480 with 1 Axes>"
      ]
     },
     "metadata": {},
     "output_type": "display_data"
    }
   ],
   "source": [
    "from matplotlib import pyplot as plt\n",
    "import numpy as np\n",
    "\n",
    "t = np.arange(0, (len(ppg) / fs), 1.0 / fs)\n",
    "plt.plot(t, ppg, color = 'black', label='PPG')\n",
    "plt.xlim([50, 55])"
   ]
  },
  {
   "cell_type": "code",
   "execution_count": 36,
   "id": "08109d81",
   "metadata": {
    "scrolled": true
   },
   "outputs": [
    {
     "data": {
      "image/png": "[encoded data removed]",
      "text/plain": [
       "<Figure size 640x480 with 1 Axes>"
      ]
     },
     "metadata": {},
     "output_type": "display_data"
    }
   ],
   "source": [
    "import numpy as np\n",
    "from scipy.signal import find_peaks\n",
    "\n",
    "# Set the window size for peak detection\n",
    "window_size = int(2 * fs) # 2 seconds\n",
    "\n",
    "# Find the maximum signal value within each window\n",
    "max_values = []\n",
    "for i in range(0, len(ppg), window_size):\n",
    "    if i + window_size <= len(ppg):\n",
    "        max_values.append(np.max(ppg[i:i+window_size]))\n",
    "    else:\n",
    "        max_values.append(np.max(ppg[i:]))\n",
    "\n",
    "# Set the threshold for peak detection\n",
    "threshold = 0.45 * np.max(max_values)\n",
    "\n",
    "# Detect the peaks\n",
    "ppgpeak, _ = find_peaks(ppg, height=threshold)\n",
    "\n",
    "# Plot the normalized ECG signal with the detected R-peaks\n",
    "t = np.arange(0, (len(ppg) / fs), 1.0 / fs)\n",
    "plt.plot(t, ppg, color='black', label='{PPG}')\n",
    "plt.plot(t[ppgpeak], ppg[ppgpeak], 'ro', label='R-peaks')\n",
    "plt.xlim([50, 55])\n",
    "plt.legend()\n",
    "plt.show()\n"
   ]
  },
  {
   "cell_type": "markdown",
   "id": "c4ae5004",
   "metadata": {},
   "source": [
    "# Extract ECG signal"
   ]
  },
  {
   "cell_type": "code",
   "execution_count": 37,
   "id": "d068172a",
   "metadata": {},
   "outputs": [
    {
     "name": "stdout",
     "output_type": "stream",
     "text": [
      "Extracted the II signal from column 0 of the matrix of waveform data.\n"
     ]
    }
   ],
   "source": [
    "for sig_no in range(0, len(segment_data.sig_name)):\n",
    "    if \"II\" in segment_data.sig_name[sig_no]:\n",
    "        break\n",
    "\n",
    "ecg = segment_data.p_signal[:, sig_no]\n",
    "fs = segment_data.fs\n",
    "print(f\"Extracted the II signal from column {sig_no} of the matrix of waveform data.\")"
   ]
  },
  {
   "cell_type": "code",
   "execution_count": 38,
   "id": "f1871589",
   "metadata": {},
   "outputs": [
    {
     "data": {
      "text/plain": [
       "(50.0, 55.0)"
      ]
     },
     "execution_count": 38,
     "metadata": {},
     "output_type": "execute_result"
    },
    {
     "data": {
      "image/png": "[encoded data removed]",
      "text/plain": [
       "<Figure size 640x480 with 1 Axes>"
      ]
     },
     "metadata": {},
     "output_type": "display_data"
    }
   ],
   "source": [
    "from matplotlib import pyplot as plt\n",
    "import numpy as np\n",
    "\n",
    "t = np.arange(0, (len(ecg) / fs), 1.0 / fs)\n",
    "plt.plot(t, ecg, color = 'black', label='ECG')\n",
    "plt.xlim([50, 55])"
   ]
  },
  {
   "cell_type": "code",
   "execution_count": 39,
   "id": "5140bfea",
   "metadata": {
    "scrolled": true
   },
   "outputs": [
    {
     "data": {
      "image/png": "[encoded data removed]",
      "text/plain": [
       "<Figure size 1200x600 with 2 Axes>"
      ]
     },
     "metadata": {},
     "output_type": "display_data"
    }
   ],
   "source": [
    "import pywt\n",
    "\n",
    "# Apply baseline removal using wavelet transform\n",
    "wavelet = 'db4' # Select the type of wavelet\n",
    "level = 5 # Select the number of levels for decomposition\n",
    "decomp = pywt.wavedec(ecg, wavelet, level=level)\n",
    "cA5, cD5, cD4, cD3, cD2, cD1 = decomp\n",
    "cA5.fill(0) # Set the approximation coefficients at the coarsest scale to 0\n",
    "ecg_base = pywt.waverec([cA5, cD5, cD4, cD3, cD2, cD1], wavelet) # Reconstruct the signal\n",
    "\n",
    "# Plot the ECG signal before and after baseline removal\n",
    "plt.figure(figsize=(12, 6))\n",
    "plt.subplot(2, 1, 1)\n",
    "plt.plot(t, ecg, color='black', label='ECG (before baseline removal)')\n",
    "plt.xlim([50, 55])\n",
    "plt.legend()\n",
    "plt.subplot(2, 1, 2)\n",
    "plt.plot(t, ecg_base, color='red', label='ECG (after baseline removal)')\n",
    "plt.xlim([50, 55])\n",
    "plt.legend()\n",
    "plt.show()\n"
   ]
  },
  {
   "cell_type": "code",
   "execution_count": 40,
   "id": "c5d55294",
   "metadata": {
    "scrolled": true
   },
   "outputs": [
    {
     "data": {
      "image/png": "[encoded data removed]",
      "text/plain": [
       "<Figure size 640x480 with 1 Axes>"
      ]
     },
     "metadata": {},
     "output_type": "display_data"
    }
   ],
   "source": [
    "import numpy as np\n",
    "from scipy.signal import find_peaks\n",
    "\n",
    "\n",
    "# Set the window size for peak detection\n",
    "window_size = int(2 * fs) # 2 seconds\n",
    "\n",
    "# Find the maximum signal value within each window\n",
    "max_values = []\n",
    "for i in range(0, len(ecg), window_size):\n",
    "    if i + window_size <= len(ecg):\n",
    "        max_values.append(np.max(ecg[i:i+window_size]))\n",
    "    else:\n",
    "        max_values.append(np.max(ecg[i:]))\n",
    "\n",
    "# Set the threshold for peak detection\n",
    "threshold = 0.45 * np.max(max_values)\n",
    "\n",
    "# Detect the peaks\n",
    "peaks_ecg, _ = find_peaks(ecg, height=threshold)\n",
    "\n",
    "# Plot the normalized ECG signal with the detected R-peaks\n",
    "t = np.arange(0, (len(ecg) / fs), 1.0 / fs)\n",
    "plt.plot(t, ecg, color='black', label='ECG')\n",
    "plt.plot(t[peaks_ecg], ecg[peaks_ecg], 'ro', label='R-peaks')\n",
    "plt.xlim([50, 55])\n",
    "plt.legend()\n",
    "plt.show()\n"
   ]
  },
  {
   "cell_type": "code",
   "execution_count": 41,
   "id": "e963a3ea",
   "metadata": {},
   "outputs": [
    {
     "name": "stdout",
     "output_type": "stream",
     "text": [
      "[ 0.40274136  0.40274136  0.47824505  0.40274136 -2.54190269  0.32912526\n",
      "  0.40274136  1.56275265  0.1872796   0.1872796   0.1872796  -2.66682698\n",
      "  1.06632312  0.1872796   0.11892024 -2.66682698  0.1872796   0.1872796\n",
      "  0.1872796   0.25732684  0.1872796   0.1872796   0.25732684  0.1872796\n",
      "  0.25732684  0.25732684  0.25732684 -2.61460995  0.40274136 -2.523147\n",
      "  0.40274136  0.47824505  0.32912526  0.40274136  0.40274136  0.40274136\n",
      "  0.40274136  0.40274136  0.32912526  0.40274136  0.32912526]\n"
     ]
    },
    {
     "data": {
      "image/png": "[encoded data removed]",
      "text/plain": [
       "<Figure size 640x480 with 1 Axes>"
      ]
     },
     "metadata": {},
     "output_type": "display_data"
    }
   ],
   "source": [
    "# Calculate the time interval between R-peaks\n",
    "rr_intervals = np.diff(peaks_ecg) / fs\n",
    "\n",
    "# Calculate HR from R-R intervals\n",
    "hr = 60 / rr_intervals\n",
    "\n",
    "# Calculate the mean and standard deviation of the heart rate\n",
    "hr_mean = np.mean(hr)\n",
    "hr_std = np.std(hr)\n",
    "\n",
    "# Normalize the heart rate\n",
    "hr_norm = (hr - hr_mean) / hr_std\n",
    "\n",
    "print(hr_norm)\n",
    "\n",
    "# Plot the HR over time\n",
    "t_hr = t[1:][peaks_ecg[:-1]]\n",
    "plt.plot(t_hr, hr, color='blue')\n",
    "plt.xlim([50, 58])\n",
    "plt.xlabel('Time (s)')\n",
    "plt.ylabel('Heart Rate (bpm)')\n",
    "plt.show()\n",
    "\n",
    "\n"
   ]
  },
  {
   "cell_type": "markdown",
   "id": "1ee4f99a",
   "metadata": {},
   "source": [
    "# PTT\n"
   ]
  },
  {
   "cell_type": "code",
   "execution_count": 42,
   "id": "163b9c68",
   "metadata": {},
   "outputs": [
    {
     "name": "stdout",
     "output_type": "stream",
     "text": [
      "[ 1.64849488  1.64849488  1.64123279  1.64849488  1.64849488  1.07478962\n",
      "  1.06752752  1.07478962  1.16919681  1.05300334  1.04574125  1.04574125\n",
      "  0.4502497   0.53739481  0.53739481  0.4502497  -0.15976602 -0.14524184\n",
      " -0.13797975 -0.13797975 -0.13071766 -0.13071766 -0.13797975 -0.12345556\n",
      " -0.11619347 -0.12345556 -0.12345556 -0.11619347 -0.71168502 -0.68989874\n",
      " -1.24181773 -1.22729355 -1.21276936 -1.22003146 -1.23455564 -1.22729355\n",
      " -1.22729355 -1.23455564 -1.22729355 -1.23455564 -1.22729355 -1.24181773]\n"
     ]
    }
   ],
   "source": [
    "# Find the time stamps of the R-peaks in the ECG and PPG signals\n",
    "t_ecg = peaks_ecg / fs\n",
    "t_ppg = ppgpeak / fs\n",
    "\n",
    "# Find the time differences between the corresponding R-peaks in the two signals\n",
    "ptt = []\n",
    "for i in range(len(t_ecg)):\n",
    "    if i < len(t_ppg):\n",
    "        ptt.append(t_ppg[i] - t_ecg[i])\n",
    "ptt_mean = np.mean(ptt)\n",
    "ptt_std = np.std(ptt)\n",
    "ptt_norm = (ptt - ptt_mean)/ptt_std\n",
    "print(ptt_norm)\n",
    "\n",
    "\n",
    "\n",
    "\n",
    "# # Print the PTT\n",
    "# print(\"PTT between ECG and PPG:\", np.mean(ptt), \"s\")\n"
   ]
  },
  {
   "cell_type": "markdown",
   "id": "3d418bff",
   "metadata": {},
   "source": [
    "# Extracting Respiration"
   ]
  },
  {
   "cell_type": "code",
   "execution_count": 19,
   "id": "e3c69ae5",
   "metadata": {},
   "outputs": [
    {
     "name": "stdout",
     "output_type": "stream",
     "text": [
      "Extracted the Resp signal from column 5 of the matrix of waveform data.\n"
     ]
    }
   ],
   "source": [
    "for sig_no in range(0, len(segment_data.sig_name)):\n",
    "    if \"Resp\" in segment_data.sig_name[sig_no]:\n",
    "        break\n",
    "\n",
    "resp = segment_data.p_signal[:, sig_no]\n",
    "fs = segment_data.fs\n",
    "print(f\"Extracted the Resp signal from column {sig_no} of the matrix of waveform data.\")"
   ]
  },
  {
   "cell_type": "code",
   "execution_count": 20,
   "id": "33160c84",
   "metadata": {},
   "outputs": [
    {
     "data": {
      "text/plain": [
       "(45.0, 60.0)"
      ]
     },
     "execution_count": 20,
     "metadata": {},
     "output_type": "execute_result"
    },
    {
     "data": {
      "image/png": "[encoded data removed]",
      "text/plain": [
       "<Figure size 640x480 with 1 Axes>"
      ]
     },
     "metadata": {},
     "output_type": "display_data"
    }
   ],
   "source": [
    "from matplotlib import pyplot as plt\n",
    "import numpy as np\n",
    "\n",
    "t = np.arange(0, (len(resp) / fs), 1.0 / fs)\n",
    "plt.plot(t, resp, color = 'black', label='Res')\n",
    "plt.xlim([45, 60])"
   ]
  },
  {
   "cell_type": "code",
   "execution_count": 24,
   "id": "81d135c5",
   "metadata": {},
   "outputs": [
    {
     "data": {
      "image/png": "[encoded data removed]",
      "text/plain": [
       "<Figure size 640x480 with 1 Axes>"
      ]
     },
     "metadata": {},
     "output_type": "display_data"
    }
   ],
   "source": [
    "from scipy.signal import find_peaks\n",
    "\n",
    "# Set the window size for peak detection\n",
    "window_size = int(2 * fs) # 2 seconds\n",
    "\n",
    "# Find the maximum signal value within each window\n",
    "max_values = []\n",
    "for i in range(0, len(resp), window_size):\n",
    "    if i + window_size <= len(resp):\n",
    "        max_values.append(np.max(resp[i:i+window_size]))\n",
    "    else:\n",
    "        max_values.append(np.max(resp[i:]))\n",
    "\n",
    "# Set the threshold for peak detection\n",
    "threshold = 0.55 * np.max(max_values)\n",
    "\n",
    "# Detect the peaks\n",
    "peaks_ecg, _ = find_peaks(resp, height=threshold)\n",
    "\n",
    "# Plot the normalized ECG signal with the detected R-peaks\n",
    "t = np.arange(0, (len(resp) / fs), 1.0 / fs)\n",
    "plt.plot(t, resp, color='black', label='ECG')\n",
    "plt.plot(t[peaks_ecg], resp[peaks_ecg], 'ro', label='R-peaks')\n",
    "plt.xlim([40, 55])\n",
    "plt.legend()\n",
    "plt.show()\n"
   ]
  },
  {
   "cell_type": "markdown",
   "id": "ef740837",
   "metadata": {},
   "source": [
    "## Blood Pressure"
   ]
  },
  {
   "cell_type": "code",
   "execution_count": 45,
   "id": "2998ff3e",
   "metadata": {},
   "outputs": [
    {
     "name": "stdout",
     "output_type": "stream",
     "text": [
      "Extracted the Resp signal from column 3 of the matrix of waveform data.\n"
     ]
    }
   ],
   "source": [
    "for sig_no in range(0, len(segment_data.sig_name)):\n",
    "    if \"ABP\" in segment_data.sig_name[sig_no]:\n",
    "        break\n",
    "\n",
    "ppg = segment_data.p_signal[:, sig_no]\n",
    "fs = segment_data.fs\n",
    "print(f\"Extracted the Resp signal from column {sig_no} of the matrix of waveform data.\")"
   ]
  },
  {
   "cell_type": "code",
   "execution_count": null,
   "id": "3b9d9de8",
   "metadata": {},
   "outputs": [],
   "source": []
  }
 ],
 "metadata": {
  "colab": {
   "name": "data-exploration.ipynb",
   "provenance": []
  },
  "kernelspec": {
   "display_name": "Python 3 (ipykernel)",
   "language": "python",
   "name": "python3"
  },
  "language_info": {
   "codemirror_mode": {
    "name": "ipython",
    "version": 3
   },
   "file_extension": ".py",
   "mimetype": "text/x-python",
   "name": "python",
   "nbconvert_exporter": "python",
   "pygments_lexer": "ipython3",
   "version": "3.10.6"
  },
  "toc": {
   "base_numbering": 1,
   "nav_menu": {},
   "number_sections": true,
   "sideBar": true,
   "skip_h1_title": true,
   "title_cell": "Table of Contents",
   "title_sidebar": "Contents",
   "toc_cell": false,
   "toc_position": {
    "height": "calc(100% - 180px)",
    "left": "10px",
    "top": "150px",
    "width": "306px"
   },
   "toc_section_display": true,
   "toc_window_display": false
  }
 },
 "nbformat": 4,
 "nbformat_minor": 5
}
